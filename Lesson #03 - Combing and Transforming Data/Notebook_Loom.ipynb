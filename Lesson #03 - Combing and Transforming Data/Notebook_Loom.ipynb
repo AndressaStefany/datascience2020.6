{
  "nbformat": 4,
  "nbformat_minor": 0,
  "metadata": {
    "colab": {
      "name": "Notebook_Loom.ipynb",
      "provenance": [],
      "collapsed_sections": []
    },
    "kernelspec": {
      "name": "python3",
      "display_name": "Python 3"
    }
  },
  "cells": [
    {
      "cell_type": "code",
      "metadata": {
        "id": "lOUsdCRArufE"
      },
      "source": [
        "import pandas as pd"
      ],
      "execution_count": 1,
      "outputs": []
    },
    {
      "cell_type": "code",
      "metadata": {
        "id": "ufJn619uuGLs",
        "outputId": "615c5d54-aff0-45c1-945a-d0bbeda536f6",
        "colab": {
          "base_uri": "https://localhost:8080/",
          "height": 196
        }
      },
      "source": [
        "data = pd.read_csv(\"World_Happiness_2015.csv\")\n",
        "data.columns = [\"Country\",\"Region\",\"Rank\",\"Score\",\"STD\",\"GDP\",\"Family\",\"LifeExpect\",\"Freedom\",\"Trust\",\"Generosity\",\"Dystopia\"]\n",
        "data.head()"
      ],
      "execution_count": 2,
      "outputs": [
        {
          "output_type": "execute_result",
          "data": {
            "text/html": [
              "<div>\n",
              "<style scoped>\n",
              "    .dataframe tbody tr th:only-of-type {\n",
              "        vertical-align: middle;\n",
              "    }\n",
              "\n",
              "    .dataframe tbody tr th {\n",
              "        vertical-align: top;\n",
              "    }\n",
              "\n",
              "    .dataframe thead th {\n",
              "        text-align: right;\n",
              "    }\n",
              "</style>\n",
              "<table border=\"1\" class=\"dataframe\">\n",
              "  <thead>\n",
              "    <tr style=\"text-align: right;\">\n",
              "      <th></th>\n",
              "      <th>Country</th>\n",
              "      <th>Region</th>\n",
              "      <th>Rank</th>\n",
              "      <th>Score</th>\n",
              "      <th>STD</th>\n",
              "      <th>GDP</th>\n",
              "      <th>Family</th>\n",
              "      <th>LifeExpect</th>\n",
              "      <th>Freedom</th>\n",
              "      <th>Trust</th>\n",
              "      <th>Generosity</th>\n",
              "      <th>Dystopia</th>\n",
              "    </tr>\n",
              "  </thead>\n",
              "  <tbody>\n",
              "    <tr>\n",
              "      <th>0</th>\n",
              "      <td>Switzerland</td>\n",
              "      <td>Western Europe</td>\n",
              "      <td>1</td>\n",
              "      <td>7.587</td>\n",
              "      <td>0.03411</td>\n",
              "      <td>1.39651</td>\n",
              "      <td>1.34951</td>\n",
              "      <td>0.94143</td>\n",
              "      <td>0.66557</td>\n",
              "      <td>0.41978</td>\n",
              "      <td>0.29678</td>\n",
              "      <td>2.51738</td>\n",
              "    </tr>\n",
              "    <tr>\n",
              "      <th>1</th>\n",
              "      <td>Iceland</td>\n",
              "      <td>Western Europe</td>\n",
              "      <td>2</td>\n",
              "      <td>7.561</td>\n",
              "      <td>0.04884</td>\n",
              "      <td>1.30232</td>\n",
              "      <td>1.40223</td>\n",
              "      <td>0.94784</td>\n",
              "      <td>0.62877</td>\n",
              "      <td>0.14145</td>\n",
              "      <td>0.43630</td>\n",
              "      <td>2.70201</td>\n",
              "    </tr>\n",
              "    <tr>\n",
              "      <th>2</th>\n",
              "      <td>Denmark</td>\n",
              "      <td>Western Europe</td>\n",
              "      <td>3</td>\n",
              "      <td>7.527</td>\n",
              "      <td>0.03328</td>\n",
              "      <td>1.32548</td>\n",
              "      <td>1.36058</td>\n",
              "      <td>0.87464</td>\n",
              "      <td>0.64938</td>\n",
              "      <td>0.48357</td>\n",
              "      <td>0.34139</td>\n",
              "      <td>2.49204</td>\n",
              "    </tr>\n",
              "    <tr>\n",
              "      <th>3</th>\n",
              "      <td>Norway</td>\n",
              "      <td>Western Europe</td>\n",
              "      <td>4</td>\n",
              "      <td>7.522</td>\n",
              "      <td>0.03880</td>\n",
              "      <td>1.45900</td>\n",
              "      <td>1.33095</td>\n",
              "      <td>0.88521</td>\n",
              "      <td>0.66973</td>\n",
              "      <td>0.36503</td>\n",
              "      <td>0.34699</td>\n",
              "      <td>2.46531</td>\n",
              "    </tr>\n",
              "    <tr>\n",
              "      <th>4</th>\n",
              "      <td>Canada</td>\n",
              "      <td>North America</td>\n",
              "      <td>5</td>\n",
              "      <td>7.427</td>\n",
              "      <td>0.03553</td>\n",
              "      <td>1.32629</td>\n",
              "      <td>1.32261</td>\n",
              "      <td>0.90563</td>\n",
              "      <td>0.63297</td>\n",
              "      <td>0.32957</td>\n",
              "      <td>0.45811</td>\n",
              "      <td>2.45176</td>\n",
              "    </tr>\n",
              "  </tbody>\n",
              "</table>\n",
              "</div>"
            ],
            "text/plain": [
              "       Country          Region  Rank  ...    Trust  Generosity  Dystopia\n",
              "0  Switzerland  Western Europe     1  ...  0.41978     0.29678   2.51738\n",
              "1      Iceland  Western Europe     2  ...  0.14145     0.43630   2.70201\n",
              "2      Denmark  Western Europe     3  ...  0.48357     0.34139   2.49204\n",
              "3       Norway  Western Europe     4  ...  0.36503     0.34699   2.46531\n",
              "4       Canada   North America     5  ...  0.32957     0.45811   2.45176\n",
              "\n",
              "[5 rows x 12 columns]"
            ]
          },
          "metadata": {
            "tags": []
          },
          "execution_count": 2
        }
      ]
    },
    {
      "cell_type": "markdown",
      "metadata": {
        "id": "OWzE-zwAuNs2"
      },
      "source": [
        "- map\n",
        "- apply\n",
        "- applymap\n",
        "- melt"
      ]
    },
    {
      "cell_type": "code",
      "metadata": {
        "id": "OhMSl7R0vPOY"
      },
      "source": [
        "def isHigh(value):\n",
        "  if value > 1.4:\n",
        "    return \"High\"\n",
        "  else:\n",
        "    return \"Low\""
      ],
      "execution_count": 29,
      "outputs": []
    },
    {
      "cell_type": "code",
      "metadata": {
        "id": "0UctZr20w7YY"
      },
      "source": [
        "def sum_crazy(col):\n",
        "  return col*2"
      ],
      "execution_count": 25,
      "outputs": []
    },
    {
      "cell_type": "code",
      "metadata": {
        "id": "AIqJ7sIbu4rr"
      },
      "source": [
        "data.GDP.head().map(isHigh)"
      ],
      "execution_count": null,
      "outputs": []
    },
    {
      "cell_type": "code",
      "metadata": {
        "id": "Kmsy4T1AvfL6"
      },
      "source": [
        "data.GDP.head().apply(isHigh,x=1.4)"
      ],
      "execution_count": null,
      "outputs": []
    },
    {
      "cell_type": "code",
      "metadata": {
        "id": "HvXI3xw0v6Ki"
      },
      "source": [
        "data[[\"GDP\",\"Family\"]].apply(sum_crazy)"
      ],
      "execution_count": null,
      "outputs": []
    },
    {
      "cell_type": "code",
      "metadata": {
        "id": "1TbBEkq6wjWc",
        "outputId": "78d4229c-b67b-4e17-b74b-195b0ac31ebe",
        "colab": {
          "base_uri": "https://localhost:8080/",
          "height": 196
        }
      },
      "source": [
        "data.head()"
      ],
      "execution_count": 27,
      "outputs": [
        {
          "output_type": "execute_result",
          "data": {
            "text/html": [
              "<div>\n",
              "<style scoped>\n",
              "    .dataframe tbody tr th:only-of-type {\n",
              "        vertical-align: middle;\n",
              "    }\n",
              "\n",
              "    .dataframe tbody tr th {\n",
              "        vertical-align: top;\n",
              "    }\n",
              "\n",
              "    .dataframe thead th {\n",
              "        text-align: right;\n",
              "    }\n",
              "</style>\n",
              "<table border=\"1\" class=\"dataframe\">\n",
              "  <thead>\n",
              "    <tr style=\"text-align: right;\">\n",
              "      <th></th>\n",
              "      <th>Country</th>\n",
              "      <th>Region</th>\n",
              "      <th>Rank</th>\n",
              "      <th>Score</th>\n",
              "      <th>STD</th>\n",
              "      <th>GDP</th>\n",
              "      <th>Family</th>\n",
              "      <th>LifeExpect</th>\n",
              "      <th>Freedom</th>\n",
              "      <th>Trust</th>\n",
              "      <th>Generosity</th>\n",
              "      <th>Dystopia</th>\n",
              "    </tr>\n",
              "  </thead>\n",
              "  <tbody>\n",
              "    <tr>\n",
              "      <th>0</th>\n",
              "      <td>Switzerland</td>\n",
              "      <td>Western Europe</td>\n",
              "      <td>1</td>\n",
              "      <td>7.587</td>\n",
              "      <td>0.03411</td>\n",
              "      <td>1.39651</td>\n",
              "      <td>1.34951</td>\n",
              "      <td>0.94143</td>\n",
              "      <td>0.66557</td>\n",
              "      <td>0.41978</td>\n",
              "      <td>0.29678</td>\n",
              "      <td>2.51738</td>\n",
              "    </tr>\n",
              "    <tr>\n",
              "      <th>1</th>\n",
              "      <td>Iceland</td>\n",
              "      <td>Western Europe</td>\n",
              "      <td>2</td>\n",
              "      <td>7.561</td>\n",
              "      <td>0.04884</td>\n",
              "      <td>1.30232</td>\n",
              "      <td>1.40223</td>\n",
              "      <td>0.94784</td>\n",
              "      <td>0.62877</td>\n",
              "      <td>0.14145</td>\n",
              "      <td>0.43630</td>\n",
              "      <td>2.70201</td>\n",
              "    </tr>\n",
              "    <tr>\n",
              "      <th>2</th>\n",
              "      <td>Denmark</td>\n",
              "      <td>Western Europe</td>\n",
              "      <td>3</td>\n",
              "      <td>7.527</td>\n",
              "      <td>0.03328</td>\n",
              "      <td>1.32548</td>\n",
              "      <td>1.36058</td>\n",
              "      <td>0.87464</td>\n",
              "      <td>0.64938</td>\n",
              "      <td>0.48357</td>\n",
              "      <td>0.34139</td>\n",
              "      <td>2.49204</td>\n",
              "    </tr>\n",
              "    <tr>\n",
              "      <th>3</th>\n",
              "      <td>Norway</td>\n",
              "      <td>Western Europe</td>\n",
              "      <td>4</td>\n",
              "      <td>7.522</td>\n",
              "      <td>0.03880</td>\n",
              "      <td>1.45900</td>\n",
              "      <td>1.33095</td>\n",
              "      <td>0.88521</td>\n",
              "      <td>0.66973</td>\n",
              "      <td>0.36503</td>\n",
              "      <td>0.34699</td>\n",
              "      <td>2.46531</td>\n",
              "    </tr>\n",
              "    <tr>\n",
              "      <th>4</th>\n",
              "      <td>Canada</td>\n",
              "      <td>North America</td>\n",
              "      <td>5</td>\n",
              "      <td>7.427</td>\n",
              "      <td>0.03553</td>\n",
              "      <td>1.32629</td>\n",
              "      <td>1.32261</td>\n",
              "      <td>0.90563</td>\n",
              "      <td>0.63297</td>\n",
              "      <td>0.32957</td>\n",
              "      <td>0.45811</td>\n",
              "      <td>2.45176</td>\n",
              "    </tr>\n",
              "  </tbody>\n",
              "</table>\n",
              "</div>"
            ],
            "text/plain": [
              "       Country          Region  Rank  ...    Trust  Generosity  Dystopia\n",
              "0  Switzerland  Western Europe     1  ...  0.41978     0.29678   2.51738\n",
              "1      Iceland  Western Europe     2  ...  0.14145     0.43630   2.70201\n",
              "2      Denmark  Western Europe     3  ...  0.48357     0.34139   2.49204\n",
              "3       Norway  Western Europe     4  ...  0.36503     0.34699   2.46531\n",
              "4       Canada   North America     5  ...  0.32957     0.45811   2.45176\n",
              "\n",
              "[5 rows x 12 columns]"
            ]
          },
          "metadata": {
            "tags": []
          },
          "execution_count": 27
        }
      ]
    },
    {
      "cell_type": "code",
      "metadata": {
        "id": "VH1K3Rti1YPC",
        "outputId": "5655af90-8ece-40e6-a6bd-5b45f8972126",
        "colab": {
          "base_uri": "https://localhost:8080/",
          "height": 196
        }
      },
      "source": [
        "cols = [\"STD\",\"GDP\",\"Family\",\"LifeExpect\",\"Freedom\",\"Trust\",\"Generosity\",\"Dystopia\"]\n",
        "data[cols].head().applymap(isHigh)"
      ],
      "execution_count": 31,
      "outputs": [
        {
          "output_type": "execute_result",
          "data": {
            "text/html": [
              "<div>\n",
              "<style scoped>\n",
              "    .dataframe tbody tr th:only-of-type {\n",
              "        vertical-align: middle;\n",
              "    }\n",
              "\n",
              "    .dataframe tbody tr th {\n",
              "        vertical-align: top;\n",
              "    }\n",
              "\n",
              "    .dataframe thead th {\n",
              "        text-align: right;\n",
              "    }\n",
              "</style>\n",
              "<table border=\"1\" class=\"dataframe\">\n",
              "  <thead>\n",
              "    <tr style=\"text-align: right;\">\n",
              "      <th></th>\n",
              "      <th>STD</th>\n",
              "      <th>GDP</th>\n",
              "      <th>Family</th>\n",
              "      <th>LifeExpect</th>\n",
              "      <th>Freedom</th>\n",
              "      <th>Trust</th>\n",
              "      <th>Generosity</th>\n",
              "      <th>Dystopia</th>\n",
              "    </tr>\n",
              "  </thead>\n",
              "  <tbody>\n",
              "    <tr>\n",
              "      <th>0</th>\n",
              "      <td>Low</td>\n",
              "      <td>Low</td>\n",
              "      <td>Low</td>\n",
              "      <td>Low</td>\n",
              "      <td>Low</td>\n",
              "      <td>Low</td>\n",
              "      <td>Low</td>\n",
              "      <td>High</td>\n",
              "    </tr>\n",
              "    <tr>\n",
              "      <th>1</th>\n",
              "      <td>Low</td>\n",
              "      <td>Low</td>\n",
              "      <td>High</td>\n",
              "      <td>Low</td>\n",
              "      <td>Low</td>\n",
              "      <td>Low</td>\n",
              "      <td>Low</td>\n",
              "      <td>High</td>\n",
              "    </tr>\n",
              "    <tr>\n",
              "      <th>2</th>\n",
              "      <td>Low</td>\n",
              "      <td>Low</td>\n",
              "      <td>Low</td>\n",
              "      <td>Low</td>\n",
              "      <td>Low</td>\n",
              "      <td>Low</td>\n",
              "      <td>Low</td>\n",
              "      <td>High</td>\n",
              "    </tr>\n",
              "    <tr>\n",
              "      <th>3</th>\n",
              "      <td>Low</td>\n",
              "      <td>High</td>\n",
              "      <td>Low</td>\n",
              "      <td>Low</td>\n",
              "      <td>Low</td>\n",
              "      <td>Low</td>\n",
              "      <td>Low</td>\n",
              "      <td>High</td>\n",
              "    </tr>\n",
              "    <tr>\n",
              "      <th>4</th>\n",
              "      <td>Low</td>\n",
              "      <td>Low</td>\n",
              "      <td>Low</td>\n",
              "      <td>Low</td>\n",
              "      <td>Low</td>\n",
              "      <td>Low</td>\n",
              "      <td>Low</td>\n",
              "      <td>High</td>\n",
              "    </tr>\n",
              "  </tbody>\n",
              "</table>\n",
              "</div>"
            ],
            "text/plain": [
              "   STD   GDP Family LifeExpect Freedom Trust Generosity Dystopia\n",
              "0  Low   Low    Low        Low     Low   Low        Low     High\n",
              "1  Low   Low   High        Low     Low   Low        Low     High\n",
              "2  Low   Low    Low        Low     Low   Low        Low     High\n",
              "3  Low  High    Low        Low     Low   Low        Low     High\n",
              "4  Low   Low    Low        Low     Low   Low        Low     High"
            ]
          },
          "metadata": {
            "tags": []
          },
          "execution_count": 31
        }
      ]
    },
    {
      "cell_type": "code",
      "metadata": {
        "id": "KjPcpVH015m1",
        "outputId": "4d909a83-db69-4f71-96b4-6d96f9347c5f",
        "colab": {
          "base_uri": "https://localhost:8080/",
          "height": 196
        }
      },
      "source": [
        "data.iloc[:5,4:].applymap(isHigh)"
      ],
      "execution_count": 32,
      "outputs": [
        {
          "output_type": "execute_result",
          "data": {
            "text/html": [
              "<div>\n",
              "<style scoped>\n",
              "    .dataframe tbody tr th:only-of-type {\n",
              "        vertical-align: middle;\n",
              "    }\n",
              "\n",
              "    .dataframe tbody tr th {\n",
              "        vertical-align: top;\n",
              "    }\n",
              "\n",
              "    .dataframe thead th {\n",
              "        text-align: right;\n",
              "    }\n",
              "</style>\n",
              "<table border=\"1\" class=\"dataframe\">\n",
              "  <thead>\n",
              "    <tr style=\"text-align: right;\">\n",
              "      <th></th>\n",
              "      <th>STD</th>\n",
              "      <th>GDP</th>\n",
              "      <th>Family</th>\n",
              "      <th>LifeExpect</th>\n",
              "      <th>Freedom</th>\n",
              "      <th>Trust</th>\n",
              "      <th>Generosity</th>\n",
              "      <th>Dystopia</th>\n",
              "    </tr>\n",
              "  </thead>\n",
              "  <tbody>\n",
              "    <tr>\n",
              "      <th>0</th>\n",
              "      <td>Low</td>\n",
              "      <td>Low</td>\n",
              "      <td>Low</td>\n",
              "      <td>Low</td>\n",
              "      <td>Low</td>\n",
              "      <td>Low</td>\n",
              "      <td>Low</td>\n",
              "      <td>High</td>\n",
              "    </tr>\n",
              "    <tr>\n",
              "      <th>1</th>\n",
              "      <td>Low</td>\n",
              "      <td>Low</td>\n",
              "      <td>High</td>\n",
              "      <td>Low</td>\n",
              "      <td>Low</td>\n",
              "      <td>Low</td>\n",
              "      <td>Low</td>\n",
              "      <td>High</td>\n",
              "    </tr>\n",
              "    <tr>\n",
              "      <th>2</th>\n",
              "      <td>Low</td>\n",
              "      <td>Low</td>\n",
              "      <td>Low</td>\n",
              "      <td>Low</td>\n",
              "      <td>Low</td>\n",
              "      <td>Low</td>\n",
              "      <td>Low</td>\n",
              "      <td>High</td>\n",
              "    </tr>\n",
              "    <tr>\n",
              "      <th>3</th>\n",
              "      <td>Low</td>\n",
              "      <td>High</td>\n",
              "      <td>Low</td>\n",
              "      <td>Low</td>\n",
              "      <td>Low</td>\n",
              "      <td>Low</td>\n",
              "      <td>Low</td>\n",
              "      <td>High</td>\n",
              "    </tr>\n",
              "    <tr>\n",
              "      <th>4</th>\n",
              "      <td>Low</td>\n",
              "      <td>Low</td>\n",
              "      <td>Low</td>\n",
              "      <td>Low</td>\n",
              "      <td>Low</td>\n",
              "      <td>Low</td>\n",
              "      <td>Low</td>\n",
              "      <td>High</td>\n",
              "    </tr>\n",
              "  </tbody>\n",
              "</table>\n",
              "</div>"
            ],
            "text/plain": [
              "   STD   GDP Family LifeExpect Freedom Trust Generosity Dystopia\n",
              "0  Low   Low    Low        Low     Low   Low        Low     High\n",
              "1  Low   Low   High        Low     Low   Low        Low     High\n",
              "2  Low   Low    Low        Low     Low   Low        Low     High\n",
              "3  Low  High    Low        Low     Low   Low        Low     High\n",
              "4  Low   Low    Low        Low     Low   Low        Low     High"
            ]
          },
          "metadata": {
            "tags": []
          },
          "execution_count": 32
        }
      ]
    },
    {
      "cell_type": "code",
      "metadata": {
        "id": "JAMTrKnM2Tw1",
        "outputId": "f7182d1e-540b-4a07-9279-f7fa7e0daf03",
        "colab": {
          "base_uri": "https://localhost:8080/",
          "height": 196
        }
      },
      "source": [
        "data.head()"
      ],
      "execution_count": 33,
      "outputs": [
        {
          "output_type": "execute_result",
          "data": {
            "text/html": [
              "<div>\n",
              "<style scoped>\n",
              "    .dataframe tbody tr th:only-of-type {\n",
              "        vertical-align: middle;\n",
              "    }\n",
              "\n",
              "    .dataframe tbody tr th {\n",
              "        vertical-align: top;\n",
              "    }\n",
              "\n",
              "    .dataframe thead th {\n",
              "        text-align: right;\n",
              "    }\n",
              "</style>\n",
              "<table border=\"1\" class=\"dataframe\">\n",
              "  <thead>\n",
              "    <tr style=\"text-align: right;\">\n",
              "      <th></th>\n",
              "      <th>Country</th>\n",
              "      <th>Region</th>\n",
              "      <th>Rank</th>\n",
              "      <th>Score</th>\n",
              "      <th>STD</th>\n",
              "      <th>GDP</th>\n",
              "      <th>Family</th>\n",
              "      <th>LifeExpect</th>\n",
              "      <th>Freedom</th>\n",
              "      <th>Trust</th>\n",
              "      <th>Generosity</th>\n",
              "      <th>Dystopia</th>\n",
              "    </tr>\n",
              "  </thead>\n",
              "  <tbody>\n",
              "    <tr>\n",
              "      <th>0</th>\n",
              "      <td>Switzerland</td>\n",
              "      <td>Western Europe</td>\n",
              "      <td>1</td>\n",
              "      <td>7.587</td>\n",
              "      <td>0.03411</td>\n",
              "      <td>1.39651</td>\n",
              "      <td>1.34951</td>\n",
              "      <td>0.94143</td>\n",
              "      <td>0.66557</td>\n",
              "      <td>0.41978</td>\n",
              "      <td>0.29678</td>\n",
              "      <td>2.51738</td>\n",
              "    </tr>\n",
              "    <tr>\n",
              "      <th>1</th>\n",
              "      <td>Iceland</td>\n",
              "      <td>Western Europe</td>\n",
              "      <td>2</td>\n",
              "      <td>7.561</td>\n",
              "      <td>0.04884</td>\n",
              "      <td>1.30232</td>\n",
              "      <td>1.40223</td>\n",
              "      <td>0.94784</td>\n",
              "      <td>0.62877</td>\n",
              "      <td>0.14145</td>\n",
              "      <td>0.43630</td>\n",
              "      <td>2.70201</td>\n",
              "    </tr>\n",
              "    <tr>\n",
              "      <th>2</th>\n",
              "      <td>Denmark</td>\n",
              "      <td>Western Europe</td>\n",
              "      <td>3</td>\n",
              "      <td>7.527</td>\n",
              "      <td>0.03328</td>\n",
              "      <td>1.32548</td>\n",
              "      <td>1.36058</td>\n",
              "      <td>0.87464</td>\n",
              "      <td>0.64938</td>\n",
              "      <td>0.48357</td>\n",
              "      <td>0.34139</td>\n",
              "      <td>2.49204</td>\n",
              "    </tr>\n",
              "    <tr>\n",
              "      <th>3</th>\n",
              "      <td>Norway</td>\n",
              "      <td>Western Europe</td>\n",
              "      <td>4</td>\n",
              "      <td>7.522</td>\n",
              "      <td>0.03880</td>\n",
              "      <td>1.45900</td>\n",
              "      <td>1.33095</td>\n",
              "      <td>0.88521</td>\n",
              "      <td>0.66973</td>\n",
              "      <td>0.36503</td>\n",
              "      <td>0.34699</td>\n",
              "      <td>2.46531</td>\n",
              "    </tr>\n",
              "    <tr>\n",
              "      <th>4</th>\n",
              "      <td>Canada</td>\n",
              "      <td>North America</td>\n",
              "      <td>5</td>\n",
              "      <td>7.427</td>\n",
              "      <td>0.03553</td>\n",
              "      <td>1.32629</td>\n",
              "      <td>1.32261</td>\n",
              "      <td>0.90563</td>\n",
              "      <td>0.63297</td>\n",
              "      <td>0.32957</td>\n",
              "      <td>0.45811</td>\n",
              "      <td>2.45176</td>\n",
              "    </tr>\n",
              "  </tbody>\n",
              "</table>\n",
              "</div>"
            ],
            "text/plain": [
              "       Country          Region  Rank  ...    Trust  Generosity  Dystopia\n",
              "0  Switzerland  Western Europe     1  ...  0.41978     0.29678   2.51738\n",
              "1      Iceland  Western Europe     2  ...  0.14145     0.43630   2.70201\n",
              "2      Denmark  Western Europe     3  ...  0.48357     0.34139   2.49204\n",
              "3       Norway  Western Europe     4  ...  0.36503     0.34699   2.46531\n",
              "4       Canada   North America     5  ...  0.32957     0.45811   2.45176\n",
              "\n",
              "[5 rows x 12 columns]"
            ]
          },
          "metadata": {
            "tags": []
          },
          "execution_count": 33
        }
      ]
    },
    {
      "cell_type": "code",
      "metadata": {
        "id": "VqXIxojN2ib3",
        "outputId": "5e5688e3-2548-46b0-c6bc-653c5fd5fb69",
        "colab": {
          "base_uri": "https://localhost:8080/",
          "height": 150
        }
      },
      "source": [
        "data.iloc[:5,5:].apply(lambda x: sum(x), axis=0)"
      ],
      "execution_count": 36,
      "outputs": [
        {
          "output_type": "execute_result",
          "data": {
            "text/plain": [
              "GDP            6.80960\n",
              "Family         6.76588\n",
              "LifeExpect     4.55475\n",
              "Freedom        3.24642\n",
              "Trust          1.73940\n",
              "Generosity     1.87957\n",
              "Dystopia      12.62850\n",
              "dtype: float64"
            ]
          },
          "metadata": {
            "tags": []
          },
          "execution_count": 36
        }
      ]
    },
    {
      "cell_type": "code",
      "metadata": {
        "id": "XrNcYP023Vo5",
        "outputId": "778f9108-c1df-480b-8d7c-ade6f91d03ed",
        "colab": {
          "base_uri": "https://localhost:8080/",
          "height": 196
        }
      },
      "source": [
        "data.head()"
      ],
      "execution_count": 37,
      "outputs": [
        {
          "output_type": "execute_result",
          "data": {
            "text/html": [
              "<div>\n",
              "<style scoped>\n",
              "    .dataframe tbody tr th:only-of-type {\n",
              "        vertical-align: middle;\n",
              "    }\n",
              "\n",
              "    .dataframe tbody tr th {\n",
              "        vertical-align: top;\n",
              "    }\n",
              "\n",
              "    .dataframe thead th {\n",
              "        text-align: right;\n",
              "    }\n",
              "</style>\n",
              "<table border=\"1\" class=\"dataframe\">\n",
              "  <thead>\n",
              "    <tr style=\"text-align: right;\">\n",
              "      <th></th>\n",
              "      <th>Country</th>\n",
              "      <th>Region</th>\n",
              "      <th>Rank</th>\n",
              "      <th>Score</th>\n",
              "      <th>STD</th>\n",
              "      <th>GDP</th>\n",
              "      <th>Family</th>\n",
              "      <th>LifeExpect</th>\n",
              "      <th>Freedom</th>\n",
              "      <th>Trust</th>\n",
              "      <th>Generosity</th>\n",
              "      <th>Dystopia</th>\n",
              "    </tr>\n",
              "  </thead>\n",
              "  <tbody>\n",
              "    <tr>\n",
              "      <th>0</th>\n",
              "      <td>Switzerland</td>\n",
              "      <td>Western Europe</td>\n",
              "      <td>1</td>\n",
              "      <td>7.587</td>\n",
              "      <td>0.03411</td>\n",
              "      <td>1.39651</td>\n",
              "      <td>1.34951</td>\n",
              "      <td>0.94143</td>\n",
              "      <td>0.66557</td>\n",
              "      <td>0.41978</td>\n",
              "      <td>0.29678</td>\n",
              "      <td>2.51738</td>\n",
              "    </tr>\n",
              "    <tr>\n",
              "      <th>1</th>\n",
              "      <td>Iceland</td>\n",
              "      <td>Western Europe</td>\n",
              "      <td>2</td>\n",
              "      <td>7.561</td>\n",
              "      <td>0.04884</td>\n",
              "      <td>1.30232</td>\n",
              "      <td>1.40223</td>\n",
              "      <td>0.94784</td>\n",
              "      <td>0.62877</td>\n",
              "      <td>0.14145</td>\n",
              "      <td>0.43630</td>\n",
              "      <td>2.70201</td>\n",
              "    </tr>\n",
              "    <tr>\n",
              "      <th>2</th>\n",
              "      <td>Denmark</td>\n",
              "      <td>Western Europe</td>\n",
              "      <td>3</td>\n",
              "      <td>7.527</td>\n",
              "      <td>0.03328</td>\n",
              "      <td>1.32548</td>\n",
              "      <td>1.36058</td>\n",
              "      <td>0.87464</td>\n",
              "      <td>0.64938</td>\n",
              "      <td>0.48357</td>\n",
              "      <td>0.34139</td>\n",
              "      <td>2.49204</td>\n",
              "    </tr>\n",
              "    <tr>\n",
              "      <th>3</th>\n",
              "      <td>Norway</td>\n",
              "      <td>Western Europe</td>\n",
              "      <td>4</td>\n",
              "      <td>7.522</td>\n",
              "      <td>0.03880</td>\n",
              "      <td>1.45900</td>\n",
              "      <td>1.33095</td>\n",
              "      <td>0.88521</td>\n",
              "      <td>0.66973</td>\n",
              "      <td>0.36503</td>\n",
              "      <td>0.34699</td>\n",
              "      <td>2.46531</td>\n",
              "    </tr>\n",
              "    <tr>\n",
              "      <th>4</th>\n",
              "      <td>Canada</td>\n",
              "      <td>North America</td>\n",
              "      <td>5</td>\n",
              "      <td>7.427</td>\n",
              "      <td>0.03553</td>\n",
              "      <td>1.32629</td>\n",
              "      <td>1.32261</td>\n",
              "      <td>0.90563</td>\n",
              "      <td>0.63297</td>\n",
              "      <td>0.32957</td>\n",
              "      <td>0.45811</td>\n",
              "      <td>2.45176</td>\n",
              "    </tr>\n",
              "  </tbody>\n",
              "</table>\n",
              "</div>"
            ],
            "text/plain": [
              "       Country          Region  Rank  ...    Trust  Generosity  Dystopia\n",
              "0  Switzerland  Western Europe     1  ...  0.41978     0.29678   2.51738\n",
              "1      Iceland  Western Europe     2  ...  0.14145     0.43630   2.70201\n",
              "2      Denmark  Western Europe     3  ...  0.48357     0.34139   2.49204\n",
              "3       Norway  Western Europe     4  ...  0.36503     0.34699   2.46531\n",
              "4       Canada   North America     5  ...  0.32957     0.45811   2.45176\n",
              "\n",
              "[5 rows x 12 columns]"
            ]
          },
          "metadata": {
            "tags": []
          },
          "execution_count": 37
        }
      ]
    },
    {
      "cell_type": "code",
      "metadata": {
        "id": "TRuSF6aL85Ma",
        "outputId": "406550f0-e8dc-48b8-b7f4-710e3a493143",
        "colab": {
          "base_uri": "https://localhost:8080/",
          "height": 33
        }
      },
      "source": [
        "data.shape"
      ],
      "execution_count": 41,
      "outputs": [
        {
          "output_type": "execute_result",
          "data": {
            "text/plain": [
              "(158, 12)"
            ]
          },
          "metadata": {
            "tags": []
          },
          "execution_count": 41
        }
      ]
    },
    {
      "cell_type": "code",
      "metadata": {
        "id": "X470rfE97j2k",
        "outputId": "75d7f6b2-ceaa-49de-c551-89202d8c6e48",
        "colab": {
          "base_uri": "https://localhost:8080/",
          "height": 196
        }
      },
      "source": [
        "data2 = pd.melt(data,id_vars=[\"Country\",\"Region\"],\n",
        "        value_vars=[\"GDP\",\"Family\",\"LifeExpect\",\"Freedom\",\"Trust\",\"Generosity\",\"Dystopia\"])\n",
        "data2.head()"
      ],
      "execution_count": 44,
      "outputs": [
        {
          "output_type": "execute_result",
          "data": {
            "text/html": [
              "<div>\n",
              "<style scoped>\n",
              "    .dataframe tbody tr th:only-of-type {\n",
              "        vertical-align: middle;\n",
              "    }\n",
              "\n",
              "    .dataframe tbody tr th {\n",
              "        vertical-align: top;\n",
              "    }\n",
              "\n",
              "    .dataframe thead th {\n",
              "        text-align: right;\n",
              "    }\n",
              "</style>\n",
              "<table border=\"1\" class=\"dataframe\">\n",
              "  <thead>\n",
              "    <tr style=\"text-align: right;\">\n",
              "      <th></th>\n",
              "      <th>Country</th>\n",
              "      <th>Region</th>\n",
              "      <th>variable</th>\n",
              "      <th>value</th>\n",
              "    </tr>\n",
              "  </thead>\n",
              "  <tbody>\n",
              "    <tr>\n",
              "      <th>0</th>\n",
              "      <td>Switzerland</td>\n",
              "      <td>Western Europe</td>\n",
              "      <td>GDP</td>\n",
              "      <td>1.39651</td>\n",
              "    </tr>\n",
              "    <tr>\n",
              "      <th>1</th>\n",
              "      <td>Iceland</td>\n",
              "      <td>Western Europe</td>\n",
              "      <td>GDP</td>\n",
              "      <td>1.30232</td>\n",
              "    </tr>\n",
              "    <tr>\n",
              "      <th>2</th>\n",
              "      <td>Denmark</td>\n",
              "      <td>Western Europe</td>\n",
              "      <td>GDP</td>\n",
              "      <td>1.32548</td>\n",
              "    </tr>\n",
              "    <tr>\n",
              "      <th>3</th>\n",
              "      <td>Norway</td>\n",
              "      <td>Western Europe</td>\n",
              "      <td>GDP</td>\n",
              "      <td>1.45900</td>\n",
              "    </tr>\n",
              "    <tr>\n",
              "      <th>4</th>\n",
              "      <td>Canada</td>\n",
              "      <td>North America</td>\n",
              "      <td>GDP</td>\n",
              "      <td>1.32629</td>\n",
              "    </tr>\n",
              "  </tbody>\n",
              "</table>\n",
              "</div>"
            ],
            "text/plain": [
              "       Country          Region variable    value\n",
              "0  Switzerland  Western Europe      GDP  1.39651\n",
              "1      Iceland  Western Europe      GDP  1.30232\n",
              "2      Denmark  Western Europe      GDP  1.32548\n",
              "3       Norway  Western Europe      GDP  1.45900\n",
              "4       Canada   North America      GDP  1.32629"
            ]
          },
          "metadata": {
            "tags": []
          },
          "execution_count": 44
        }
      ]
    },
    {
      "cell_type": "code",
      "metadata": {
        "id": "lkc-BRb28hJi",
        "outputId": "b9241624-6e74-4c6b-c3d2-4d6cf510f066",
        "colab": {
          "base_uri": "https://localhost:8080/",
          "height": 35
        }
      },
      "source": [
        "import plotly\n",
        "\n",
        "plotly.__version__"
      ],
      "execution_count": 45,
      "outputs": [
        {
          "output_type": "execute_result",
          "data": {
            "application/vnd.google.colaboratory.intrinsic+json": {
              "type": "string"
            },
            "text/plain": [
              "'4.4.1'"
            ]
          },
          "metadata": {
            "tags": []
          },
          "execution_count": 45
        }
      ]
    },
    {
      "cell_type": "code",
      "metadata": {
        "id": "mxVmUnqz9s_R",
        "outputId": "a29b7b90-5820-4495-b458-33fbd63f87c5",
        "colab": {
          "base_uri": "https://localhost:8080/",
          "height": 269
        }
      },
      "source": [
        "!pip install plotly==4.10"
      ],
      "execution_count": 46,
      "outputs": [
        {
          "output_type": "stream",
          "text": [
            "Collecting plotly==4.10\n",
            "\u001b[?25l  Downloading https://files.pythonhosted.org/packages/04/20/c2d77eef33dbd40c5e3263a9a8763ffca610a4c3d2b2da21c5601e5fc5d8/plotly-4.10.0-py2.py3-none-any.whl (13.0MB)\n",
            "\u001b[K     |████████████████████████████████| 13.0MB 315kB/s \n",
            "\u001b[?25hRequirement already satisfied: six in /usr/local/lib/python3.6/dist-packages (from plotly==4.10) (1.15.0)\n",
            "Requirement already satisfied: retrying>=1.3.3 in /usr/local/lib/python3.6/dist-packages (from plotly==4.10) (1.3.3)\n",
            "Installing collected packages: plotly\n",
            "  Found existing installation: plotly 4.4.1\n",
            "    Uninstalling plotly-4.4.1:\n",
            "      Successfully uninstalled plotly-4.4.1\n",
            "Successfully installed plotly-4.10.0\n"
          ],
          "name": "stdout"
        },
        {
          "output_type": "display_data",
          "data": {
            "application/vnd.colab-display-data+json": {
              "pip_warning": {
                "packages": [
                  "_plotly_utils",
                  "plotly"
                ]
              }
            }
          },
          "metadata": {
            "tags": []
          }
        }
      ]
    },
    {
      "cell_type": "code",
      "metadata": {
        "id": "Mu9xIzb8-A5K",
        "outputId": "93b6d357-972f-4584-c5cb-8443b176b9af",
        "colab": {
          "base_uri": "https://localhost:8080/",
          "height": 196
        }
      },
      "source": [
        "data[\"Year\"] = 2015\n",
        "data.head()"
      ],
      "execution_count": 9,
      "outputs": [
        {
          "output_type": "execute_result",
          "data": {
            "text/html": [
              "<div>\n",
              "<style scoped>\n",
              "    .dataframe tbody tr th:only-of-type {\n",
              "        vertical-align: middle;\n",
              "    }\n",
              "\n",
              "    .dataframe tbody tr th {\n",
              "        vertical-align: top;\n",
              "    }\n",
              "\n",
              "    .dataframe thead th {\n",
              "        text-align: right;\n",
              "    }\n",
              "</style>\n",
              "<table border=\"1\" class=\"dataframe\">\n",
              "  <thead>\n",
              "    <tr style=\"text-align: right;\">\n",
              "      <th></th>\n",
              "      <th>Country</th>\n",
              "      <th>Region</th>\n",
              "      <th>Rank</th>\n",
              "      <th>Score</th>\n",
              "      <th>STD</th>\n",
              "      <th>GDP</th>\n",
              "      <th>Family</th>\n",
              "      <th>LifeExpect</th>\n",
              "      <th>Freedom</th>\n",
              "      <th>Trust</th>\n",
              "      <th>Generosity</th>\n",
              "      <th>Dystopia</th>\n",
              "      <th>Year</th>\n",
              "    </tr>\n",
              "  </thead>\n",
              "  <tbody>\n",
              "    <tr>\n",
              "      <th>0</th>\n",
              "      <td>Switzerland</td>\n",
              "      <td>Western Europe</td>\n",
              "      <td>1</td>\n",
              "      <td>7.587</td>\n",
              "      <td>0.03411</td>\n",
              "      <td>1.39651</td>\n",
              "      <td>1.34951</td>\n",
              "      <td>0.94143</td>\n",
              "      <td>0.66557</td>\n",
              "      <td>0.41978</td>\n",
              "      <td>0.29678</td>\n",
              "      <td>2.51738</td>\n",
              "      <td>2015</td>\n",
              "    </tr>\n",
              "    <tr>\n",
              "      <th>1</th>\n",
              "      <td>Iceland</td>\n",
              "      <td>Western Europe</td>\n",
              "      <td>2</td>\n",
              "      <td>7.561</td>\n",
              "      <td>0.04884</td>\n",
              "      <td>1.30232</td>\n",
              "      <td>1.40223</td>\n",
              "      <td>0.94784</td>\n",
              "      <td>0.62877</td>\n",
              "      <td>0.14145</td>\n",
              "      <td>0.43630</td>\n",
              "      <td>2.70201</td>\n",
              "      <td>2015</td>\n",
              "    </tr>\n",
              "    <tr>\n",
              "      <th>2</th>\n",
              "      <td>Denmark</td>\n",
              "      <td>Western Europe</td>\n",
              "      <td>3</td>\n",
              "      <td>7.527</td>\n",
              "      <td>0.03328</td>\n",
              "      <td>1.32548</td>\n",
              "      <td>1.36058</td>\n",
              "      <td>0.87464</td>\n",
              "      <td>0.64938</td>\n",
              "      <td>0.48357</td>\n",
              "      <td>0.34139</td>\n",
              "      <td>2.49204</td>\n",
              "      <td>2015</td>\n",
              "    </tr>\n",
              "    <tr>\n",
              "      <th>3</th>\n",
              "      <td>Norway</td>\n",
              "      <td>Western Europe</td>\n",
              "      <td>4</td>\n",
              "      <td>7.522</td>\n",
              "      <td>0.03880</td>\n",
              "      <td>1.45900</td>\n",
              "      <td>1.33095</td>\n",
              "      <td>0.88521</td>\n",
              "      <td>0.66973</td>\n",
              "      <td>0.36503</td>\n",
              "      <td>0.34699</td>\n",
              "      <td>2.46531</td>\n",
              "      <td>2015</td>\n",
              "    </tr>\n",
              "    <tr>\n",
              "      <th>4</th>\n",
              "      <td>Canada</td>\n",
              "      <td>North America</td>\n",
              "      <td>5</td>\n",
              "      <td>7.427</td>\n",
              "      <td>0.03553</td>\n",
              "      <td>1.32629</td>\n",
              "      <td>1.32261</td>\n",
              "      <td>0.90563</td>\n",
              "      <td>0.63297</td>\n",
              "      <td>0.32957</td>\n",
              "      <td>0.45811</td>\n",
              "      <td>2.45176</td>\n",
              "      <td>2015</td>\n",
              "    </tr>\n",
              "  </tbody>\n",
              "</table>\n",
              "</div>"
            ],
            "text/plain": [
              "       Country          Region  Rank  ...  Generosity  Dystopia  Year\n",
              "0  Switzerland  Western Europe     1  ...     0.29678   2.51738  2015\n",
              "1      Iceland  Western Europe     2  ...     0.43630   2.70201  2015\n",
              "2      Denmark  Western Europe     3  ...     0.34139   2.49204  2015\n",
              "3       Norway  Western Europe     4  ...     0.34699   2.46531  2015\n",
              "4       Canada   North America     5  ...     0.45811   2.45176  2015\n",
              "\n",
              "[5 rows x 13 columns]"
            ]
          },
          "metadata": {
            "tags": []
          },
          "execution_count": 9
        }
      ]
    },
    {
      "cell_type": "code",
      "metadata": {
        "id": "cg5CDOh7-Nrr",
        "outputId": "05fe75c8-e6fb-4c09-b359-e29f865d54a3",
        "colab": {
          "base_uri": "https://localhost:8080/",
          "height": 542
        }
      },
      "source": [
        "import plotly.express as px\n",
        "\n",
        "fig = px.scatter(data,x=\"GDP\",y=\"LifeExpect\",size=\"Score\",color=\"Region\",hover_name=\"Country\")\n",
        "fig.show()"
      ],
      "execution_count": 8,
      "outputs": [
        {
          "output_type": "display_data",
          "data": {
            "text/html": [
              "<html>\n",
              "<head><meta charset=\"utf-8\" /></head>\n",
              "<body>\n",
              "    <div>            <script src=\"https://cdnjs.cloudflare.com/ajax/libs/mathjax/2.7.5/MathJax.js?config=TeX-AMS-MML_SVG\"></script><script type=\"text/javascript\">if (window.MathJax) {MathJax.Hub.Config({SVG: {font: \"STIX-Web\"}});}</script>                <script type=\"text/javascript\">window.PlotlyConfig = {MathJaxConfig: 'local'};</script>\n",
              "        <script src=\"https://cdn.plot.ly/plotly-latest.min.js\"></script>                <div id=\"1b84de36-48f0-41a6-b171-d60ae10e3971\" class=\"plotly-graph-div\" style=\"height:525px; width:100%;\"></div>            <script type=\"text/javascript\">                                    window.PLOTLYENV=window.PLOTLYENV || {};                                    if (document.getElementById(\"1b84de36-48f0-41a6-b171-d60ae10e3971\")) {                    Plotly.newPlot(                        \"1b84de36-48f0-41a6-b171-d60ae10e3971\",                        [{\"hovertemplate\": \"<b>%{hovertext}</b><br><br>Region=Western Europe<br>GDP=%{x}<br>LifeExpect=%{y}<br>Score=%{marker.size}<extra></extra>\", \"hovertext\": [\"Switzerland\", \"Iceland\", \"Denmark\", \"Norway\", \"Finland\", \"Netherlands\", \"Sweden\", \"Austria\", \"Luxembourg\", \"Ireland\", \"Belgium\", \"United Kingdom\", \"Germany\", \"France\", \"Spain\", \"Malta\", \"Italy\", \"North Cyprus\", \"Cyprus\", \"Portugal\", \"Greece\"], \"legendgroup\": \"Western Europe\", \"marker\": {\"color\": \"#636efa\", \"size\": [7.587000000000001, 7.561, 7.527, 7.522, 7.406000000000001, 7.377999999999999, 7.364, 7.2, 6.946000000000001, 6.94, 6.937, 6.867000000000001, 6.75, 6.575, 6.329, 6.3020000000000005, 5.9479999999999995, 5.695, 5.689, 5.102, 4.857], \"sizemode\": \"area\", \"sizeref\": 0.0189675, \"symbol\": \"circle\"}, \"mode\": \"markers\", \"name\": \"Western Europe\", \"orientation\": \"v\", \"showlegend\": true, \"type\": \"scatter\", \"x\": [1.3965100000000001, 1.3023200000000001, 1.32548, 1.459, 1.29025, 1.32944, 1.33171, 1.33723, 1.5639100000000001, 1.33596, 1.30782, 1.26637, 1.32792, 1.27778, 1.23011, 1.2074, 1.25114, 1.2080600000000001, 1.20813, 1.15991, 1.15406], \"xaxis\": \"x\", \"y\": [0.9414299999999999, 0.94784, 0.87464, 0.88521, 0.8891100000000001, 0.89284, 0.9108700000000001, 0.8904200000000001, 0.91894, 0.89533, 0.8966700000000001, 0.90943, 0.89186, 0.9457899999999999, 0.95562, 0.88721, 0.9544600000000001, 0.92356, 0.92356, 0.8751899999999999, 0.88213], \"yaxis\": \"y\"}, {\"hovertemplate\": \"<b>%{hovertext}</b><br><br>Region=North America<br>GDP=%{x}<br>LifeExpect=%{y}<br>Score=%{marker.size}<extra></extra>\", \"hovertext\": [\"Canada\", \"United States\"], \"legendgroup\": \"North America\", \"marker\": {\"color\": \"#EF553B\", \"size\": [7.4270000000000005, 7.119], \"sizemode\": \"area\", \"sizeref\": 0.0189675, \"symbol\": \"circle\"}, \"mode\": \"markers\", \"name\": \"North America\", \"orientation\": \"v\", \"showlegend\": true, \"type\": \"scatter\", \"x\": [1.32629, 1.3945100000000001], \"xaxis\": \"x\", \"y\": [0.9056299999999999, 0.86179], \"yaxis\": \"y\"}, {\"hovertemplate\": \"<b>%{hovertext}</b><br><br>Region=Australia and New Zealand<br>GDP=%{x}<br>LifeExpect=%{y}<br>Score=%{marker.size}<extra></extra>\", \"hovertext\": [\"New Zealand\", \"Australia\"], \"legendgroup\": \"Australia and New Zealand\", \"marker\": {\"color\": \"#00cc96\", \"size\": [7.2860000000000005, 7.284], \"sizemode\": \"area\", \"sizeref\": 0.0189675, \"symbol\": \"circle\"}, \"mode\": \"markers\", \"name\": \"Australia and New Zealand\", \"orientation\": \"v\", \"showlegend\": true, \"type\": \"scatter\", \"x\": [1.2501799999999998, 1.33358], \"xaxis\": \"x\", \"y\": [0.9083700000000001, 0.93156], \"yaxis\": \"y\"}, {\"hovertemplate\": \"<b>%{hovertext}</b><br><br>Region=Middle East and Northern Africa<br>GDP=%{x}<br>LifeExpect=%{y}<br>Score=%{marker.size}<extra></extra>\", \"hovertext\": [\"Israel\", \"United Arab Emirates\", \"Oman\", \"Qatar\", \"Saudi Arabia\", \"Kuwait\", \"Bahrain\", \"Libya\", \"Algeria\", \"Turkey\", \"Jordan\", \"Morocco\", \"Lebanon\", \"Tunisia\", \"Palestinian Territories\", \"Iran\", \"Iraq\", \"Egypt\", \"Yemen\", \"Syria\"], \"legendgroup\": \"Middle East and Northern Africa\", \"marker\": {\"color\": \"#ab63fa\", \"size\": [7.278, 6.901, 6.853, 6.611000000000001, 6.4110000000000005, 6.295, 5.96, 5.754, 5.605, 5.332000000000001, 5.192, 5.013, 4.8389999999999995, 4.739, 4.715, 4.686, 4.677, 4.194, 4.077, 3.0060000000000002], \"sizemode\": \"area\", \"sizeref\": 0.0189675, \"symbol\": \"circle\"}, \"mode\": \"markers\", \"name\": \"Middle East and Northern Africa\", \"orientation\": \"v\", \"showlegend\": true, \"type\": \"scatter\", \"x\": [1.2285700000000002, 1.42727, 1.36011, 1.69042, 1.39541, 1.5542200000000002, 1.32376, 1.13145, 0.93929, 1.06098, 0.9019799999999999, 0.7347899999999999, 1.0256399999999999, 0.88113, 0.59867, 1.0088, 0.98549, 0.8818, 0.5464899999999999, 0.6632], \"xaxis\": \"x\", \"y\": [0.9138700000000001, 0.80925, 0.76276, 0.79733, 0.72025, 0.72492, 0.74716, 0.7038, 0.61766, 0.73172, 0.69639, 0.60954, 0.83947, 0.73793, 0.66015, 0.69805, 0.60237, 0.61712, 0.40064, 0.7219300000000001], \"yaxis\": \"y\"}, {\"hovertemplate\": \"<b>%{hovertext}</b><br><br>Region=Latin America and Caribbean<br>GDP=%{x}<br>LifeExpect=%{y}<br>Score=%{marker.size}<extra></extra>\", \"hovertext\": [\"Costa Rica\", \"Mexico\", \"Brazil\", \"Venezuela\", \"Panama\", \"Chile\", \"Argentina\", \"Uruguay\", \"Colombia\", \"Suriname\", \"Trinidad and Tobago\", \"El Salvador\", \"Guatemala\", \"Ecuador\", \"Bolivia\", \"Paraguay\", \"Nicaragua\", \"Peru\", \"Jamaica\", \"Dominican Republic\", \"Honduras\", \"Haiti\"], \"legendgroup\": \"Latin America and Caribbean\", \"marker\": {\"color\": \"#FFA15A\", \"size\": [7.226, 7.187, 6.983, 6.81, 6.7860000000000005, 6.67, 6.574, 6.485, 6.477, 6.269, 6.167999999999999, 6.13, 6.122999999999999, 5.975, 5.89, 5.877999999999999, 5.827999999999999, 5.824, 5.709, 4.885, 4.788, 4.518], \"sizemode\": \"area\", \"sizeref\": 0.0189675, \"symbol\": \"circle\"}, \"mode\": \"markers\", \"name\": \"Latin America and Caribbean\", \"orientation\": \"v\", \"showlegend\": true, \"type\": \"scatter\", \"x\": [0.95578, 1.02054, 0.98124, 1.04424, 1.0635299999999999, 1.10715, 1.05351, 1.06166, 0.91861, 0.99534, 1.21183, 0.76454, 0.74553, 0.8640200000000001, 0.68133, 0.75985, 0.59325, 0.9001899999999999, 0.81038, 0.8953700000000001, 0.59532, 0.26673], \"xaxis\": \"x\", \"y\": [0.8602700000000001, 0.8144399999999999, 0.69702, 0.7205199999999999, 0.79661, 0.85857, 0.78723, 0.8116, 0.69077, 0.6082, 0.61483, 0.67737, 0.64425, 0.79075, 0.5392, 0.66098, 0.7431399999999999, 0.73017, 0.6874100000000001, 0.66825, 0.6951, 0.38847], \"yaxis\": \"y\"}, {\"hovertemplate\": \"<b>%{hovertext}</b><br><br>Region=Southeastern Asia<br>GDP=%{x}<br>LifeExpect=%{y}<br>Score=%{marker.size}<extra></extra>\", \"hovertext\": [\"Singapore\", \"Thailand\", \"Malaysia\", \"Indonesia\", \"Vietnam\", \"Philippines\", \"Laos\", \"Myanmar\", \"Cambodia\"], \"legendgroup\": \"Southeastern Asia\", \"marker\": {\"color\": \"#19d3f3\", \"size\": [6.797999999999999, 6.455, 5.77, 5.399, 5.36, 5.073, 4.876, 4.3069999999999995, 3.819], \"sizemode\": \"area\", \"sizeref\": 0.0189675, \"symbol\": \"circle\"}, \"mode\": \"markers\", \"name\": \"Southeastern Asia\", \"orientation\": \"v\", \"showlegend\": true, \"type\": \"scatter\", \"x\": [1.52186, 0.9669, 1.12486, 0.8282700000000001, 0.63216, 0.70532, 0.5906600000000001, 0.27108000000000004, 0.46038], \"xaxis\": \"x\", \"y\": [1.02525, 0.7385, 0.7239399999999999, 0.63793, 0.7467600000000001, 0.58114, 0.54909, 0.48246000000000006, 0.61114], \"yaxis\": \"y\"}, {\"hovertemplate\": \"<b>%{hovertext}</b><br><br>Region=Central and Eastern Europe<br>GDP=%{x}<br>LifeExpect=%{y}<br>Score=%{marker.size}<extra></extra>\", \"hovertext\": [\"Czech Republic\", \"Uzbekistan\", \"Slovakia\", \"Moldova\", \"Kazakhstan\", \"Slovenia\", \"Lithuania\", \"Belarus\", \"Poland\", \"Croatia\", \"Russia\", \"Kosovo\", \"Turkmenistan\", \"Estonia\", \"Kyrgyzstan\", \"Azerbaijan\", \"Montenegro\", \"Romania\", \"Serbia\", \"Latvia\", \"Macedonia\", \"Albania\", \"Bosnia and Herzegovina\", \"Hungary\", \"Tajikistan\", \"Ukraine\", \"Armenia\", \"Georgia\", \"Bulgaria\"], \"legendgroup\": \"Central and Eastern Europe\", \"marker\": {\"color\": \"#FF6692\", \"size\": [6.505, 6.002999999999999, 5.995, 5.888999999999999, 5.855, 5.848, 5.832999999999999, 5.813, 5.791, 5.7589999999999995, 5.716, 5.5889999999999995, 5.547999999999999, 5.428999999999999, 5.2860000000000005, 5.212000000000001, 5.192, 5.124, 5.122999999999999, 5.098, 5.007, 4.959, 4.949, 4.8, 4.7860000000000005, 4.681, 4.35, 4.297, 4.218], \"sizemode\": \"area\", \"sizeref\": 0.0189675, \"symbol\": \"circle\"}, \"mode\": \"markers\", \"name\": \"Central and Eastern Europe\", \"orientation\": \"v\", \"showlegend\": true, \"type\": \"scatter\", \"x\": [1.17898, 0.63244, 1.1689100000000001, 0.59448, 1.1225399999999999, 1.18498, 1.14723, 1.0319200000000002, 1.12555, 1.08254, 1.13764, 0.80148, 0.95847, 1.15174, 0.47428000000000003, 1.02389, 0.9743799999999999, 1.04345, 0.92053, 1.11312, 0.91851, 0.8786700000000001, 0.8322299999999999, 1.12094, 0.39047, 0.79907, 0.7682100000000001, 0.7419, 1.01216], \"xaxis\": \"x\", \"y\": [0.84483, 0.59772, 0.7890199999999999, 0.61826, 0.64368, 0.8733700000000001, 0.73128, 0.7360800000000001, 0.77903, 0.78805, 0.6692600000000001, 0.63132, 0.53886, 0.77361, 0.65088, 0.64045, 0.72521, 0.7689, 0.74836, 0.72437, 0.73545, 0.81325, 0.79081, 0.75905, 0.5737899999999999, 0.6739, 0.7299, 0.72926, 0.76649], \"yaxis\": \"y\"}, {\"hovertemplate\": \"<b>%{hovertext}</b><br><br>Region=Eastern Asia<br>GDP=%{x}<br>LifeExpect=%{y}<br>Score=%{marker.size}<extra></extra>\", \"hovertext\": [\"Taiwan\", \"Japan\", \"South Korea\", \"Hong Kong\", \"China\", \"Mongolia\"], \"legendgroup\": \"Eastern Asia\", \"marker\": {\"color\": \"#B6E880\", \"size\": [6.297999999999999, 5.987, 5.984, 5.474, 5.14, 4.874], \"sizemode\": \"area\", \"sizeref\": 0.0189675, \"symbol\": \"circle\"}, \"mode\": \"markers\", \"name\": \"Eastern Asia\", \"orientation\": \"v\", \"showlegend\": true, \"type\": \"scatter\", \"x\": [1.29098, 1.27074, 1.24461, 1.38604, 0.89012, 0.82819], \"xaxis\": \"x\", \"y\": [0.8753, 0.99111, 0.9653799999999999, 1.01328, 0.81658, 0.60268], \"yaxis\": \"y\"}, {\"hovertemplate\": \"<b>%{hovertext}</b><br><br>Region=Sub-Saharan Africa<br>GDP=%{x}<br>LifeExpect=%{y}<br>Score=%{marker.size}<extra></extra>\", \"hovertext\": [\"Mauritius\", \"Nigeria\", \"Zambia\", \"Somaliland region\", \"Mozambique\", \"Lesotho\", \"Swaziland\", \"South Africa\", \"Ghana\", \"Zimbabwe\", \"Liberia\", \"Sudan\", \"Congo (Kinshasa)\", \"Ethiopia\", \"Sierra Leone\", \"Mauritania\", \"Kenya\", \"Djibouti\", \"Botswana\", \"Malawi\", \"Cameroon\", \"Angola\", \"Mali\", \"Congo (Brazzaville)\", \"Comoros\", \"Uganda\", \"Senegal\", \"Gabon\", \"Niger\", \"Tanzania\", \"Madagascar\", \"Central African Republic\", \"Chad\", \"Guinea\", \"Ivory Coast\", \"Burkina Faso\", \"Rwanda\", \"Benin\", \"Burundi\", \"Togo\"], \"legendgroup\": \"Sub-Saharan Africa\", \"marker\": {\"color\": \"#FF97FF\", \"size\": [5.477, 5.268, 5.129, 5.0569999999999995, 4.971, 4.898, 4.867, 4.6419999999999995, 4.633, 4.61, 4.571000000000001, 4.55, 4.5169999999999995, 4.512, 4.507, 4.436, 4.419, 4.369, 4.332, 4.292, 4.252, 4.033, 3.995, 3.989, 3.9560000000000004, 3.931, 3.904, 3.8960000000000004, 3.845, 3.781, 3.681, 3.678, 3.667, 3.656, 3.655, 3.5869999999999997, 3.465, 3.34, 2.905, 2.839], \"sizemode\": \"area\", \"sizeref\": 0.0189675, \"symbol\": \"circle\"}, \"mode\": \"markers\", \"name\": \"Sub-Saharan Africa\", \"orientation\": \"v\", \"showlegend\": true, \"type\": \"scatter\", \"x\": [1.0076100000000001, 0.65435, 0.47038, 0.18847, 0.08308, 0.37545, 0.71206, 0.9204899999999999, 0.5455800000000001, 0.271, 0.0712, 0.52107, 0.0, 0.19072999999999998, 0.33024000000000003, 0.45407, 0.36471, 0.44025, 0.99355, 0.016040000000000002, 0.4225, 0.75778, 0.26074, 0.67866, 0.23906, 0.21101999999999999, 0.36498, 1.06024, 0.0694, 0.2852, 0.20824, 0.0785, 0.34193, 0.17417, 0.46534, 0.25811999999999996, 0.22208000000000003, 0.28665, 0.0153, 0.20868], \"xaxis\": \"x\", \"y\": [0.7095, 0.16007000000000002, 0.29924, 0.43873, 0.09131, 0.07612000000000001, 0.07566, 0.27688, 0.40131999999999995, 0.33475, 0.34201, 0.36878, 0.09806000000000001, 0.44055, 0.0, 0.35874, 0.41435, 0.36291, 0.047760000000000004, 0.22562, 0.23401999999999998, 0.16683, 0.20583, 0.31051, 0.36315, 0.33860999999999997, 0.4354, 0.43372, 0.29707, 0.38215, 0.46721, 0.06699, 0.1501, 0.24009, 0.15185, 0.27125, 0.42863999999999997, 0.3191, 0.22396, 0.28443], \"yaxis\": \"y\"}, {\"hovertemplate\": \"<b>%{hovertext}</b><br><br>Region=Southern Asia<br>GDP=%{x}<br>LifeExpect=%{y}<br>Score=%{marker.size}<extra></extra>\", \"hovertext\": [\"Bhutan\", \"Pakistan\", \"Bangladesh\", \"India\", \"Nepal\", \"Sri Lanka\", \"Afghanistan\"], \"legendgroup\": \"Southern Asia\", \"marker\": {\"color\": \"#FECB52\", \"size\": [5.252999999999999, 5.194, 4.694, 4.565, 4.513999999999999, 4.271, 3.575], \"sizemode\": \"area\", \"sizeref\": 0.0189675, \"symbol\": \"circle\"}, \"mode\": \"markers\", \"name\": \"Southern Asia\", \"orientation\": \"v\", \"showlegend\": true, \"type\": \"scatter\", \"x\": [0.77042, 0.59543, 0.39753, 0.64499, 0.35996999999999996, 0.83524, 0.31982], \"xaxis\": \"x\", \"y\": [0.57407, 0.51466, 0.60164, 0.5152899999999999, 0.5687399999999999, 0.70806, 0.30335], \"yaxis\": \"y\"}],                        {\"legend\": {\"itemsizing\": \"constant\", \"title\": {\"text\": \"Region\"}, \"tracegroupgap\": 0}, \"margin\": {\"t\": 60}, \"template\": {\"data\": {\"bar\": [{\"error_x\": {\"color\": \"#2a3f5f\"}, \"error_y\": {\"color\": \"#2a3f5f\"}, \"marker\": {\"line\": {\"color\": \"#E5ECF6\", \"width\": 0.5}}, \"type\": \"bar\"}], \"barpolar\": [{\"marker\": {\"line\": {\"color\": \"#E5ECF6\", \"width\": 0.5}}, \"type\": \"barpolar\"}], \"carpet\": [{\"aaxis\": {\"endlinecolor\": \"#2a3f5f\", \"gridcolor\": \"white\", \"linecolor\": \"white\", \"minorgridcolor\": \"white\", \"startlinecolor\": \"#2a3f5f\"}, \"baxis\": {\"endlinecolor\": \"#2a3f5f\", \"gridcolor\": \"white\", \"linecolor\": \"white\", \"minorgridcolor\": \"white\", \"startlinecolor\": \"#2a3f5f\"}, \"type\": \"carpet\"}], \"choropleth\": [{\"colorbar\": {\"outlinewidth\": 0, \"ticks\": \"\"}, \"type\": \"choropleth\"}], \"contour\": [{\"colorbar\": {\"outlinewidth\": 0, \"ticks\": \"\"}, \"colorscale\": [[0.0, \"#0d0887\"], [0.1111111111111111, \"#46039f\"], [0.2222222222222222, \"#7201a8\"], [0.3333333333333333, \"#9c179e\"], [0.4444444444444444, \"#bd3786\"], [0.5555555555555556, \"#d8576b\"], [0.6666666666666666, \"#ed7953\"], [0.7777777777777778, \"#fb9f3a\"], [0.8888888888888888, \"#fdca26\"], [1.0, \"#f0f921\"]], \"type\": \"contour\"}], \"contourcarpet\": [{\"colorbar\": {\"outlinewidth\": 0, \"ticks\": \"\"}, \"type\": \"contourcarpet\"}], \"heatmap\": [{\"colorbar\": {\"outlinewidth\": 0, \"ticks\": \"\"}, \"colorscale\": [[0.0, \"#0d0887\"], [0.1111111111111111, \"#46039f\"], [0.2222222222222222, \"#7201a8\"], [0.3333333333333333, \"#9c179e\"], [0.4444444444444444, \"#bd3786\"], [0.5555555555555556, \"#d8576b\"], [0.6666666666666666, \"#ed7953\"], [0.7777777777777778, \"#fb9f3a\"], [0.8888888888888888, \"#fdca26\"], [1.0, \"#f0f921\"]], \"type\": \"heatmap\"}], \"heatmapgl\": [{\"colorbar\": {\"outlinewidth\": 0, \"ticks\": \"\"}, \"colorscale\": [[0.0, \"#0d0887\"], [0.1111111111111111, \"#46039f\"], [0.2222222222222222, \"#7201a8\"], [0.3333333333333333, \"#9c179e\"], [0.4444444444444444, \"#bd3786\"], [0.5555555555555556, \"#d8576b\"], [0.6666666666666666, \"#ed7953\"], [0.7777777777777778, \"#fb9f3a\"], [0.8888888888888888, \"#fdca26\"], [1.0, \"#f0f921\"]], \"type\": \"heatmapgl\"}], \"histogram\": [{\"marker\": {\"colorbar\": {\"outlinewidth\": 0, \"ticks\": \"\"}}, \"type\": \"histogram\"}], \"histogram2d\": [{\"colorbar\": {\"outlinewidth\": 0, \"ticks\": \"\"}, \"colorscale\": [[0.0, \"#0d0887\"], [0.1111111111111111, \"#46039f\"], [0.2222222222222222, \"#7201a8\"], [0.3333333333333333, \"#9c179e\"], [0.4444444444444444, \"#bd3786\"], [0.5555555555555556, \"#d8576b\"], [0.6666666666666666, \"#ed7953\"], [0.7777777777777778, \"#fb9f3a\"], [0.8888888888888888, \"#fdca26\"], [1.0, \"#f0f921\"]], \"type\": \"histogram2d\"}], \"histogram2dcontour\": [{\"colorbar\": {\"outlinewidth\": 0, \"ticks\": \"\"}, \"colorscale\": [[0.0, \"#0d0887\"], [0.1111111111111111, \"#46039f\"], [0.2222222222222222, \"#7201a8\"], [0.3333333333333333, \"#9c179e\"], [0.4444444444444444, \"#bd3786\"], [0.5555555555555556, \"#d8576b\"], [0.6666666666666666, \"#ed7953\"], [0.7777777777777778, \"#fb9f3a\"], [0.8888888888888888, \"#fdca26\"], [1.0, \"#f0f921\"]], \"type\": \"histogram2dcontour\"}], \"mesh3d\": [{\"colorbar\": {\"outlinewidth\": 0, \"ticks\": \"\"}, \"type\": \"mesh3d\"}], \"parcoords\": [{\"line\": {\"colorbar\": {\"outlinewidth\": 0, \"ticks\": \"\"}}, \"type\": \"parcoords\"}], \"pie\": [{\"automargin\": true, \"type\": \"pie\"}], \"scatter\": [{\"marker\": {\"colorbar\": {\"outlinewidth\": 0, \"ticks\": \"\"}}, \"type\": \"scatter\"}], \"scatter3d\": [{\"line\": {\"colorbar\": {\"outlinewidth\": 0, \"ticks\": \"\"}}, \"marker\": {\"colorbar\": {\"outlinewidth\": 0, \"ticks\": \"\"}}, \"type\": \"scatter3d\"}], \"scattercarpet\": [{\"marker\": {\"colorbar\": {\"outlinewidth\": 0, \"ticks\": \"\"}}, \"type\": \"scattercarpet\"}], \"scattergeo\": [{\"marker\": {\"colorbar\": {\"outlinewidth\": 0, \"ticks\": \"\"}}, \"type\": \"scattergeo\"}], \"scattergl\": [{\"marker\": {\"colorbar\": {\"outlinewidth\": 0, \"ticks\": \"\"}}, \"type\": \"scattergl\"}], \"scattermapbox\": [{\"marker\": {\"colorbar\": {\"outlinewidth\": 0, \"ticks\": \"\"}}, \"type\": \"scattermapbox\"}], \"scatterpolar\": [{\"marker\": {\"colorbar\": {\"outlinewidth\": 0, \"ticks\": \"\"}}, \"type\": \"scatterpolar\"}], \"scatterpolargl\": [{\"marker\": {\"colorbar\": {\"outlinewidth\": 0, \"ticks\": \"\"}}, \"type\": \"scatterpolargl\"}], \"scatterternary\": [{\"marker\": {\"colorbar\": {\"outlinewidth\": 0, \"ticks\": \"\"}}, \"type\": \"scatterternary\"}], \"surface\": [{\"colorbar\": {\"outlinewidth\": 0, \"ticks\": \"\"}, \"colorscale\": [[0.0, \"#0d0887\"], [0.1111111111111111, \"#46039f\"], [0.2222222222222222, \"#7201a8\"], [0.3333333333333333, \"#9c179e\"], [0.4444444444444444, \"#bd3786\"], [0.5555555555555556, \"#d8576b\"], [0.6666666666666666, \"#ed7953\"], [0.7777777777777778, \"#fb9f3a\"], [0.8888888888888888, \"#fdca26\"], [1.0, \"#f0f921\"]], \"type\": \"surface\"}], \"table\": [{\"cells\": {\"fill\": {\"color\": \"#EBF0F8\"}, \"line\": {\"color\": \"white\"}}, \"header\": {\"fill\": {\"color\": \"#C8D4E3\"}, \"line\": {\"color\": \"white\"}}, \"type\": \"table\"}]}, \"layout\": {\"annotationdefaults\": {\"arrowcolor\": \"#2a3f5f\", \"arrowhead\": 0, \"arrowwidth\": 1}, \"coloraxis\": {\"colorbar\": {\"outlinewidth\": 0, \"ticks\": \"\"}}, \"colorscale\": {\"diverging\": [[0, \"#8e0152\"], [0.1, \"#c51b7d\"], [0.2, \"#de77ae\"], [0.3, \"#f1b6da\"], [0.4, \"#fde0ef\"], [0.5, \"#f7f7f7\"], [0.6, \"#e6f5d0\"], [0.7, \"#b8e186\"], [0.8, \"#7fbc41\"], [0.9, \"#4d9221\"], [1, \"#276419\"]], \"sequential\": [[0.0, \"#0d0887\"], [0.1111111111111111, \"#46039f\"], [0.2222222222222222, \"#7201a8\"], [0.3333333333333333, \"#9c179e\"], [0.4444444444444444, \"#bd3786\"], [0.5555555555555556, \"#d8576b\"], [0.6666666666666666, \"#ed7953\"], [0.7777777777777778, \"#fb9f3a\"], [0.8888888888888888, \"#fdca26\"], [1.0, \"#f0f921\"]], \"sequentialminus\": [[0.0, \"#0d0887\"], [0.1111111111111111, \"#46039f\"], [0.2222222222222222, \"#7201a8\"], [0.3333333333333333, \"#9c179e\"], [0.4444444444444444, \"#bd3786\"], [0.5555555555555556, \"#d8576b\"], [0.6666666666666666, \"#ed7953\"], [0.7777777777777778, \"#fb9f3a\"], [0.8888888888888888, \"#fdca26\"], [1.0, \"#f0f921\"]]}, \"colorway\": [\"#636efa\", \"#EF553B\", \"#00cc96\", \"#ab63fa\", \"#FFA15A\", \"#19d3f3\", \"#FF6692\", \"#B6E880\", \"#FF97FF\", \"#FECB52\"], \"font\": {\"color\": \"#2a3f5f\"}, \"geo\": {\"bgcolor\": \"white\", \"lakecolor\": \"white\", \"landcolor\": \"#E5ECF6\", \"showlakes\": true, \"showland\": true, \"subunitcolor\": \"white\"}, \"hoverlabel\": {\"align\": \"left\"}, \"hovermode\": \"closest\", \"mapbox\": {\"style\": \"light\"}, \"paper_bgcolor\": \"white\", \"plot_bgcolor\": \"#E5ECF6\", \"polar\": {\"angularaxis\": {\"gridcolor\": \"white\", \"linecolor\": \"white\", \"ticks\": \"\"}, \"bgcolor\": \"#E5ECF6\", \"radialaxis\": {\"gridcolor\": \"white\", \"linecolor\": \"white\", \"ticks\": \"\"}}, \"scene\": {\"xaxis\": {\"backgroundcolor\": \"#E5ECF6\", \"gridcolor\": \"white\", \"gridwidth\": 2, \"linecolor\": \"white\", \"showbackground\": true, \"ticks\": \"\", \"zerolinecolor\": \"white\"}, \"yaxis\": {\"backgroundcolor\": \"#E5ECF6\", \"gridcolor\": \"white\", \"gridwidth\": 2, \"linecolor\": \"white\", \"showbackground\": true, \"ticks\": \"\", \"zerolinecolor\": \"white\"}, \"zaxis\": {\"backgroundcolor\": \"#E5ECF6\", \"gridcolor\": \"white\", \"gridwidth\": 2, \"linecolor\": \"white\", \"showbackground\": true, \"ticks\": \"\", \"zerolinecolor\": \"white\"}}, \"shapedefaults\": {\"line\": {\"color\": \"#2a3f5f\"}}, \"ternary\": {\"aaxis\": {\"gridcolor\": \"white\", \"linecolor\": \"white\", \"ticks\": \"\"}, \"baxis\": {\"gridcolor\": \"white\", \"linecolor\": \"white\", \"ticks\": \"\"}, \"bgcolor\": \"#E5ECF6\", \"caxis\": {\"gridcolor\": \"white\", \"linecolor\": \"white\", \"ticks\": \"\"}}, \"title\": {\"x\": 0.05}, \"xaxis\": {\"automargin\": true, \"gridcolor\": \"white\", \"linecolor\": \"white\", \"ticks\": \"\", \"title\": {\"standoff\": 15}, \"zerolinecolor\": \"white\", \"zerolinewidth\": 2}, \"yaxis\": {\"automargin\": true, \"gridcolor\": \"white\", \"linecolor\": \"white\", \"ticks\": \"\", \"title\": {\"standoff\": 15}, \"zerolinecolor\": \"white\", \"zerolinewidth\": 2}}}, \"xaxis\": {\"anchor\": \"y\", \"domain\": [0.0, 1.0], \"title\": {\"text\": \"GDP\"}}, \"yaxis\": {\"anchor\": \"x\", \"domain\": [0.0, 1.0], \"title\": {\"text\": \"LifeExpect\"}}},                        {\"responsive\": true}                    ).then(function(){\n",
              "                            \n",
              "var gd = document.getElementById('1b84de36-48f0-41a6-b171-d60ae10e3971');\n",
              "var x = new MutationObserver(function (mutations, observer) {{\n",
              "        var display = window.getComputedStyle(gd).display;\n",
              "        if (!display || display === 'none') {{\n",
              "            console.log([gd, 'removed!']);\n",
              "            Plotly.purge(gd);\n",
              "            observer.disconnect();\n",
              "        }}\n",
              "}});\n",
              "\n",
              "// Listen for the removal of the full notebook cells\n",
              "var notebookContainer = gd.closest('#notebook-container');\n",
              "if (notebookContainer) {{\n",
              "    x.observe(notebookContainer, {childList: true});\n",
              "}}\n",
              "\n",
              "// Listen for the clearing of the current output cell\n",
              "var outputEl = gd.closest('.output');\n",
              "if (outputEl) {{\n",
              "    x.observe(outputEl, {childList: true});\n",
              "}}\n",
              "\n",
              "                        })                };                            </script>        </div>\n",
              "</body>\n",
              "</html>"
            ]
          },
          "metadata": {
            "tags": []
          }
        }
      ]
    },
    {
      "cell_type": "code",
      "metadata": {
        "id": "Jka7YeRv-U9a",
        "outputId": "18b7921c-2e5b-4281-afc4-51f7e911309e",
        "colab": {
          "base_uri": "https://localhost:8080/",
          "height": 196
        }
      },
      "source": [
        "data2016 = pd.read_csv(\"World_Happiness_2016.csv\")\n",
        "data2016.drop(labels=[\"Lower Confidence Interval\",\"Upper Confidence Interval\"],axis=1,inplace=True)\n",
        "data2016.columns = [\"Country\",\"Region\",\"Rank\",\"Score\",\"GDP\",\"Family\",\"LifeExpect\",\"Freedom\",\"Trust\",\"Generosity\",\"Dystopia\"]\n",
        "data2016[\"Year\"] = 2016\n",
        "data2016.head()"
      ],
      "execution_count": 16,
      "outputs": [
        {
          "output_type": "execute_result",
          "data": {
            "text/html": [
              "<div>\n",
              "<style scoped>\n",
              "    .dataframe tbody tr th:only-of-type {\n",
              "        vertical-align: middle;\n",
              "    }\n",
              "\n",
              "    .dataframe tbody tr th {\n",
              "        vertical-align: top;\n",
              "    }\n",
              "\n",
              "    .dataframe thead th {\n",
              "        text-align: right;\n",
              "    }\n",
              "</style>\n",
              "<table border=\"1\" class=\"dataframe\">\n",
              "  <thead>\n",
              "    <tr style=\"text-align: right;\">\n",
              "      <th></th>\n",
              "      <th>Country</th>\n",
              "      <th>Region</th>\n",
              "      <th>Rank</th>\n",
              "      <th>Score</th>\n",
              "      <th>GDP</th>\n",
              "      <th>Family</th>\n",
              "      <th>LifeExpect</th>\n",
              "      <th>Freedom</th>\n",
              "      <th>Trust</th>\n",
              "      <th>Generosity</th>\n",
              "      <th>Dystopia</th>\n",
              "      <th>Year</th>\n",
              "    </tr>\n",
              "  </thead>\n",
              "  <tbody>\n",
              "    <tr>\n",
              "      <th>0</th>\n",
              "      <td>Denmark</td>\n",
              "      <td>Western Europe</td>\n",
              "      <td>1</td>\n",
              "      <td>7.526</td>\n",
              "      <td>1.44178</td>\n",
              "      <td>1.16374</td>\n",
              "      <td>0.79504</td>\n",
              "      <td>0.57941</td>\n",
              "      <td>0.44453</td>\n",
              "      <td>0.36171</td>\n",
              "      <td>2.73939</td>\n",
              "      <td>2016</td>\n",
              "    </tr>\n",
              "    <tr>\n",
              "      <th>1</th>\n",
              "      <td>Switzerland</td>\n",
              "      <td>Western Europe</td>\n",
              "      <td>2</td>\n",
              "      <td>7.509</td>\n",
              "      <td>1.52733</td>\n",
              "      <td>1.14524</td>\n",
              "      <td>0.86303</td>\n",
              "      <td>0.58557</td>\n",
              "      <td>0.41203</td>\n",
              "      <td>0.28083</td>\n",
              "      <td>2.69463</td>\n",
              "      <td>2016</td>\n",
              "    </tr>\n",
              "    <tr>\n",
              "      <th>2</th>\n",
              "      <td>Iceland</td>\n",
              "      <td>Western Europe</td>\n",
              "      <td>3</td>\n",
              "      <td>7.501</td>\n",
              "      <td>1.42666</td>\n",
              "      <td>1.18326</td>\n",
              "      <td>0.86733</td>\n",
              "      <td>0.56624</td>\n",
              "      <td>0.14975</td>\n",
              "      <td>0.47678</td>\n",
              "      <td>2.83137</td>\n",
              "      <td>2016</td>\n",
              "    </tr>\n",
              "    <tr>\n",
              "      <th>3</th>\n",
              "      <td>Norway</td>\n",
              "      <td>Western Europe</td>\n",
              "      <td>4</td>\n",
              "      <td>7.498</td>\n",
              "      <td>1.57744</td>\n",
              "      <td>1.12690</td>\n",
              "      <td>0.79579</td>\n",
              "      <td>0.59609</td>\n",
              "      <td>0.35776</td>\n",
              "      <td>0.37895</td>\n",
              "      <td>2.66465</td>\n",
              "      <td>2016</td>\n",
              "    </tr>\n",
              "    <tr>\n",
              "      <th>4</th>\n",
              "      <td>Finland</td>\n",
              "      <td>Western Europe</td>\n",
              "      <td>5</td>\n",
              "      <td>7.413</td>\n",
              "      <td>1.40598</td>\n",
              "      <td>1.13464</td>\n",
              "      <td>0.81091</td>\n",
              "      <td>0.57104</td>\n",
              "      <td>0.41004</td>\n",
              "      <td>0.25492</td>\n",
              "      <td>2.82596</td>\n",
              "      <td>2016</td>\n",
              "    </tr>\n",
              "  </tbody>\n",
              "</table>\n",
              "</div>"
            ],
            "text/plain": [
              "       Country          Region  Rank  ...  Generosity  Dystopia  Year\n",
              "0      Denmark  Western Europe     1  ...     0.36171   2.73939  2016\n",
              "1  Switzerland  Western Europe     2  ...     0.28083   2.69463  2016\n",
              "2      Iceland  Western Europe     3  ...     0.47678   2.83137  2016\n",
              "3       Norway  Western Europe     4  ...     0.37895   2.66465  2016\n",
              "4      Finland  Western Europe     5  ...     0.25492   2.82596  2016\n",
              "\n",
              "[5 rows x 12 columns]"
            ]
          },
          "metadata": {
            "tags": []
          },
          "execution_count": 16
        }
      ]
    },
    {
      "cell_type": "code",
      "metadata": {
        "id": "1ELMpehZ_pnp",
        "outputId": "fc1bc562-81ab-475e-a369-3e7c6b8305ac",
        "colab": {
          "base_uri": "https://localhost:8080/",
          "height": 196
        }
      },
      "source": [
        "data.drop(labels=\"STD\",axis=1,inplace=True)\n",
        "data.head()"
      ],
      "execution_count": 15,
      "outputs": [
        {
          "output_type": "execute_result",
          "data": {
            "text/html": [
              "<div>\n",
              "<style scoped>\n",
              "    .dataframe tbody tr th:only-of-type {\n",
              "        vertical-align: middle;\n",
              "    }\n",
              "\n",
              "    .dataframe tbody tr th {\n",
              "        vertical-align: top;\n",
              "    }\n",
              "\n",
              "    .dataframe thead th {\n",
              "        text-align: right;\n",
              "    }\n",
              "</style>\n",
              "<table border=\"1\" class=\"dataframe\">\n",
              "  <thead>\n",
              "    <tr style=\"text-align: right;\">\n",
              "      <th></th>\n",
              "      <th>Country</th>\n",
              "      <th>Region</th>\n",
              "      <th>Rank</th>\n",
              "      <th>Score</th>\n",
              "      <th>GDP</th>\n",
              "      <th>Family</th>\n",
              "      <th>LifeExpect</th>\n",
              "      <th>Freedom</th>\n",
              "      <th>Trust</th>\n",
              "      <th>Generosity</th>\n",
              "      <th>Dystopia</th>\n",
              "      <th>Year</th>\n",
              "    </tr>\n",
              "  </thead>\n",
              "  <tbody>\n",
              "    <tr>\n",
              "      <th>0</th>\n",
              "      <td>Switzerland</td>\n",
              "      <td>Western Europe</td>\n",
              "      <td>1</td>\n",
              "      <td>7.587</td>\n",
              "      <td>1.39651</td>\n",
              "      <td>1.34951</td>\n",
              "      <td>0.94143</td>\n",
              "      <td>0.66557</td>\n",
              "      <td>0.41978</td>\n",
              "      <td>0.29678</td>\n",
              "      <td>2.51738</td>\n",
              "      <td>2015</td>\n",
              "    </tr>\n",
              "    <tr>\n",
              "      <th>1</th>\n",
              "      <td>Iceland</td>\n",
              "      <td>Western Europe</td>\n",
              "      <td>2</td>\n",
              "      <td>7.561</td>\n",
              "      <td>1.30232</td>\n",
              "      <td>1.40223</td>\n",
              "      <td>0.94784</td>\n",
              "      <td>0.62877</td>\n",
              "      <td>0.14145</td>\n",
              "      <td>0.43630</td>\n",
              "      <td>2.70201</td>\n",
              "      <td>2015</td>\n",
              "    </tr>\n",
              "    <tr>\n",
              "      <th>2</th>\n",
              "      <td>Denmark</td>\n",
              "      <td>Western Europe</td>\n",
              "      <td>3</td>\n",
              "      <td>7.527</td>\n",
              "      <td>1.32548</td>\n",
              "      <td>1.36058</td>\n",
              "      <td>0.87464</td>\n",
              "      <td>0.64938</td>\n",
              "      <td>0.48357</td>\n",
              "      <td>0.34139</td>\n",
              "      <td>2.49204</td>\n",
              "      <td>2015</td>\n",
              "    </tr>\n",
              "    <tr>\n",
              "      <th>3</th>\n",
              "      <td>Norway</td>\n",
              "      <td>Western Europe</td>\n",
              "      <td>4</td>\n",
              "      <td>7.522</td>\n",
              "      <td>1.45900</td>\n",
              "      <td>1.33095</td>\n",
              "      <td>0.88521</td>\n",
              "      <td>0.66973</td>\n",
              "      <td>0.36503</td>\n",
              "      <td>0.34699</td>\n",
              "      <td>2.46531</td>\n",
              "      <td>2015</td>\n",
              "    </tr>\n",
              "    <tr>\n",
              "      <th>4</th>\n",
              "      <td>Canada</td>\n",
              "      <td>North America</td>\n",
              "      <td>5</td>\n",
              "      <td>7.427</td>\n",
              "      <td>1.32629</td>\n",
              "      <td>1.32261</td>\n",
              "      <td>0.90563</td>\n",
              "      <td>0.63297</td>\n",
              "      <td>0.32957</td>\n",
              "      <td>0.45811</td>\n",
              "      <td>2.45176</td>\n",
              "      <td>2015</td>\n",
              "    </tr>\n",
              "  </tbody>\n",
              "</table>\n",
              "</div>"
            ],
            "text/plain": [
              "       Country          Region  Rank  ...  Generosity  Dystopia  Year\n",
              "0  Switzerland  Western Europe     1  ...     0.29678   2.51738  2015\n",
              "1      Iceland  Western Europe     2  ...     0.43630   2.70201  2015\n",
              "2      Denmark  Western Europe     3  ...     0.34139   2.49204  2015\n",
              "3       Norway  Western Europe     4  ...     0.34699   2.46531  2015\n",
              "4       Canada   North America     5  ...     0.45811   2.45176  2015\n",
              "\n",
              "[5 rows x 12 columns]"
            ]
          },
          "metadata": {
            "tags": []
          },
          "execution_count": 15
        }
      ]
    },
    {
      "cell_type": "code",
      "metadata": {
        "id": "SwA8QrdiAH02",
        "outputId": "bbbd6ff0-aaa2-4e8d-8485-e87ebeab23ce",
        "colab": {
          "base_uri": "https://localhost:8080/",
          "height": 196
        }
      },
      "source": [
        "data_all = pd.concat([data,data2016],axis=0)\n",
        "data_all.tail()"
      ],
      "execution_count": 18,
      "outputs": [
        {
          "output_type": "execute_result",
          "data": {
            "text/html": [
              "<div>\n",
              "<style scoped>\n",
              "    .dataframe tbody tr th:only-of-type {\n",
              "        vertical-align: middle;\n",
              "    }\n",
              "\n",
              "    .dataframe tbody tr th {\n",
              "        vertical-align: top;\n",
              "    }\n",
              "\n",
              "    .dataframe thead th {\n",
              "        text-align: right;\n",
              "    }\n",
              "</style>\n",
              "<table border=\"1\" class=\"dataframe\">\n",
              "  <thead>\n",
              "    <tr style=\"text-align: right;\">\n",
              "      <th></th>\n",
              "      <th>Country</th>\n",
              "      <th>Region</th>\n",
              "      <th>Rank</th>\n",
              "      <th>Score</th>\n",
              "      <th>GDP</th>\n",
              "      <th>Family</th>\n",
              "      <th>LifeExpect</th>\n",
              "      <th>Freedom</th>\n",
              "      <th>Trust</th>\n",
              "      <th>Generosity</th>\n",
              "      <th>Dystopia</th>\n",
              "      <th>Year</th>\n",
              "    </tr>\n",
              "  </thead>\n",
              "  <tbody>\n",
              "    <tr>\n",
              "      <th>152</th>\n",
              "      <td>Benin</td>\n",
              "      <td>Sub-Saharan Africa</td>\n",
              "      <td>153</td>\n",
              "      <td>3.484</td>\n",
              "      <td>0.39499</td>\n",
              "      <td>0.10419</td>\n",
              "      <td>0.21028</td>\n",
              "      <td>0.39747</td>\n",
              "      <td>0.06681</td>\n",
              "      <td>0.20180</td>\n",
              "      <td>2.10812</td>\n",
              "      <td>2016</td>\n",
              "    </tr>\n",
              "    <tr>\n",
              "      <th>153</th>\n",
              "      <td>Afghanistan</td>\n",
              "      <td>Southern Asia</td>\n",
              "      <td>154</td>\n",
              "      <td>3.360</td>\n",
              "      <td>0.38227</td>\n",
              "      <td>0.11037</td>\n",
              "      <td>0.17344</td>\n",
              "      <td>0.16430</td>\n",
              "      <td>0.07112</td>\n",
              "      <td>0.31268</td>\n",
              "      <td>2.14558</td>\n",
              "      <td>2016</td>\n",
              "    </tr>\n",
              "    <tr>\n",
              "      <th>154</th>\n",
              "      <td>Togo</td>\n",
              "      <td>Sub-Saharan Africa</td>\n",
              "      <td>155</td>\n",
              "      <td>3.303</td>\n",
              "      <td>0.28123</td>\n",
              "      <td>0.00000</td>\n",
              "      <td>0.24811</td>\n",
              "      <td>0.34678</td>\n",
              "      <td>0.11587</td>\n",
              "      <td>0.17517</td>\n",
              "      <td>2.13540</td>\n",
              "      <td>2016</td>\n",
              "    </tr>\n",
              "    <tr>\n",
              "      <th>155</th>\n",
              "      <td>Syria</td>\n",
              "      <td>Middle East and Northern Africa</td>\n",
              "      <td>156</td>\n",
              "      <td>3.069</td>\n",
              "      <td>0.74719</td>\n",
              "      <td>0.14866</td>\n",
              "      <td>0.62994</td>\n",
              "      <td>0.06912</td>\n",
              "      <td>0.17233</td>\n",
              "      <td>0.48397</td>\n",
              "      <td>0.81789</td>\n",
              "      <td>2016</td>\n",
              "    </tr>\n",
              "    <tr>\n",
              "      <th>156</th>\n",
              "      <td>Burundi</td>\n",
              "      <td>Sub-Saharan Africa</td>\n",
              "      <td>157</td>\n",
              "      <td>2.905</td>\n",
              "      <td>0.06831</td>\n",
              "      <td>0.23442</td>\n",
              "      <td>0.15747</td>\n",
              "      <td>0.04320</td>\n",
              "      <td>0.09419</td>\n",
              "      <td>0.20290</td>\n",
              "      <td>2.10404</td>\n",
              "      <td>2016</td>\n",
              "    </tr>\n",
              "  </tbody>\n",
              "</table>\n",
              "</div>"
            ],
            "text/plain": [
              "         Country                           Region  ...  Dystopia  Year\n",
              "152        Benin               Sub-Saharan Africa  ...   2.10812  2016\n",
              "153  Afghanistan                    Southern Asia  ...   2.14558  2016\n",
              "154         Togo               Sub-Saharan Africa  ...   2.13540  2016\n",
              "155        Syria  Middle East and Northern Africa  ...   0.81789  2016\n",
              "156      Burundi               Sub-Saharan Africa  ...   2.10404  2016\n",
              "\n",
              "[5 rows x 12 columns]"
            ]
          },
          "metadata": {
            "tags": []
          },
          "execution_count": 18
        }
      ]
    },
    {
      "cell_type": "code",
      "metadata": {
        "id": "u1_NqroGAbbN",
        "outputId": "e0d1084b-025b-4e4c-fb72-ca6c3dbdcaf5",
        "colab": {
          "base_uri": "https://localhost:8080/",
          "height": 542
        }
      },
      "source": [
        "fig = px.scatter(data_all,x=\"GDP\",y=\"LifeExpect\",size=\"Score\",\n",
        "                 color=\"Region\",hover_name=\"Country\",animation_frame=\"Year\",animation_group=\"Country\")\n",
        "fig.show()"
      ],
      "execution_count": 21,
      "outputs": [
        {
          "output_type": "display_data",
          "data": {
            "text/html": [
              "<html>\n",
              "<head><meta charset=\"utf-8\" /></head>\n",
              "<body>\n",
              "    <div>            <script src=\"https://cdnjs.cloudflare.com/ajax/libs/mathjax/2.7.5/MathJax.js?config=TeX-AMS-MML_SVG\"></script><script type=\"text/javascript\">if (window.MathJax) {MathJax.Hub.Config({SVG: {font: \"STIX-Web\"}});}</script>                <script type=\"text/javascript\">window.PlotlyConfig = {MathJaxConfig: 'local'};</script>\n",
              "        <script src=\"https://cdn.plot.ly/plotly-latest.min.js\"></script>                <div id=\"e3ac8b6f-ff45-4630-bbd5-5bf2459ebf18\" class=\"plotly-graph-div\" style=\"height:525px; width:100%;\"></div>            <script type=\"text/javascript\">                                    window.PLOTLYENV=window.PLOTLYENV || {};                                    if (document.getElementById(\"e3ac8b6f-ff45-4630-bbd5-5bf2459ebf18\")) {                    Plotly.newPlot(                        \"e3ac8b6f-ff45-4630-bbd5-5bf2459ebf18\",                        [{\"hovertemplate\": \"<b>%{hovertext}</b><br><br>Region=Western Europe<br>Year=2015<br>GDP=%{x}<br>LifeExpect=%{y}<br>Score=%{marker.size}<extra></extra>\", \"hovertext\": [\"Switzerland\", \"Iceland\", \"Denmark\", \"Norway\", \"Finland\", \"Netherlands\", \"Sweden\", \"Austria\", \"Luxembourg\", \"Ireland\", \"Belgium\", \"United Kingdom\", \"Germany\", \"France\", \"Spain\", \"Malta\", \"Italy\", \"North Cyprus\", \"Cyprus\", \"Portugal\", \"Greece\"], \"ids\": [\"Switzerland\", \"Iceland\", \"Denmark\", \"Norway\", \"Finland\", \"Netherlands\", \"Sweden\", \"Austria\", \"Luxembourg\", \"Ireland\", \"Belgium\", \"United Kingdom\", \"Germany\", \"France\", \"Spain\", \"Malta\", \"Italy\", \"North Cyprus\", \"Cyprus\", \"Portugal\", \"Greece\"], \"legendgroup\": \"Western Europe\", \"marker\": {\"color\": \"#636efa\", \"size\": [7.587000000000001, 7.561, 7.527, 7.522, 7.406000000000001, 7.377999999999999, 7.364, 7.2, 6.946000000000001, 6.94, 6.937, 6.867000000000001, 6.75, 6.575, 6.329, 6.3020000000000005, 5.9479999999999995, 5.695, 5.689, 5.102, 4.857], \"sizemode\": \"area\", \"sizeref\": 0.0189675, \"symbol\": \"circle\"}, \"mode\": \"markers\", \"name\": \"Western Europe\", \"orientation\": \"v\", \"showlegend\": true, \"type\": \"scatter\", \"x\": [1.3965100000000001, 1.3023200000000001, 1.32548, 1.459, 1.29025, 1.32944, 1.33171, 1.33723, 1.5639100000000001, 1.33596, 1.30782, 1.26637, 1.32792, 1.27778, 1.23011, 1.2074, 1.25114, 1.2080600000000001, 1.20813, 1.15991, 1.15406], \"xaxis\": \"x\", \"y\": [0.9414299999999999, 0.94784, 0.87464, 0.88521, 0.8891100000000001, 0.89284, 0.9108700000000001, 0.8904200000000001, 0.91894, 0.89533, 0.8966700000000001, 0.90943, 0.89186, 0.9457899999999999, 0.95562, 0.88721, 0.9544600000000001, 0.92356, 0.92356, 0.8751899999999999, 0.88213], \"yaxis\": \"y\"}, {\"hovertemplate\": \"<b>%{hovertext}</b><br><br>Region=North America<br>Year=2015<br>GDP=%{x}<br>LifeExpect=%{y}<br>Score=%{marker.size}<extra></extra>\", \"hovertext\": [\"Canada\", \"United States\"], \"ids\": [\"Canada\", \"United States\"], \"legendgroup\": \"North America\", \"marker\": {\"color\": \"#EF553B\", \"size\": [7.4270000000000005, 7.119], \"sizemode\": \"area\", \"sizeref\": 0.0189675, \"symbol\": \"circle\"}, \"mode\": \"markers\", \"name\": \"North America\", \"orientation\": \"v\", \"showlegend\": true, \"type\": \"scatter\", \"x\": [1.32629, 1.3945100000000001], \"xaxis\": \"x\", \"y\": [0.9056299999999999, 0.86179], \"yaxis\": \"y\"}, {\"hovertemplate\": \"<b>%{hovertext}</b><br><br>Region=Australia and New Zealand<br>Year=2015<br>GDP=%{x}<br>LifeExpect=%{y}<br>Score=%{marker.size}<extra></extra>\", \"hovertext\": [\"New Zealand\", \"Australia\"], \"ids\": [\"New Zealand\", \"Australia\"], \"legendgroup\": \"Australia and New Zealand\", \"marker\": {\"color\": \"#00cc96\", \"size\": [7.2860000000000005, 7.284], \"sizemode\": \"area\", \"sizeref\": 0.0189675, \"symbol\": \"circle\"}, \"mode\": \"markers\", \"name\": \"Australia and New Zealand\", \"orientation\": \"v\", \"showlegend\": true, \"type\": \"scatter\", \"x\": [1.2501799999999998, 1.33358], \"xaxis\": \"x\", \"y\": [0.9083700000000001, 0.93156], \"yaxis\": \"y\"}, {\"hovertemplate\": \"<b>%{hovertext}</b><br><br>Region=Middle East and Northern Africa<br>Year=2015<br>GDP=%{x}<br>LifeExpect=%{y}<br>Score=%{marker.size}<extra></extra>\", \"hovertext\": [\"Israel\", \"United Arab Emirates\", \"Oman\", \"Qatar\", \"Saudi Arabia\", \"Kuwait\", \"Bahrain\", \"Libya\", \"Algeria\", \"Turkey\", \"Jordan\", \"Morocco\", \"Lebanon\", \"Tunisia\", \"Palestinian Territories\", \"Iran\", \"Iraq\", \"Egypt\", \"Yemen\", \"Syria\"], \"ids\": [\"Israel\", \"United Arab Emirates\", \"Oman\", \"Qatar\", \"Saudi Arabia\", \"Kuwait\", \"Bahrain\", \"Libya\", \"Algeria\", \"Turkey\", \"Jordan\", \"Morocco\", \"Lebanon\", \"Tunisia\", \"Palestinian Territories\", \"Iran\", \"Iraq\", \"Egypt\", \"Yemen\", \"Syria\"], \"legendgroup\": \"Middle East and Northern Africa\", \"marker\": {\"color\": \"#ab63fa\", \"size\": [7.278, 6.901, 6.853, 6.611000000000001, 6.4110000000000005, 6.295, 5.96, 5.754, 5.605, 5.332000000000001, 5.192, 5.013, 4.8389999999999995, 4.739, 4.715, 4.686, 4.677, 4.194, 4.077, 3.0060000000000002], \"sizemode\": \"area\", \"sizeref\": 0.0189675, \"symbol\": \"circle\"}, \"mode\": \"markers\", \"name\": \"Middle East and Northern Africa\", \"orientation\": \"v\", \"showlegend\": true, \"type\": \"scatter\", \"x\": [1.2285700000000002, 1.42727, 1.36011, 1.69042, 1.39541, 1.5542200000000002, 1.32376, 1.13145, 0.93929, 1.06098, 0.9019799999999999, 0.7347899999999999, 1.0256399999999999, 0.88113, 0.59867, 1.0088, 0.98549, 0.8818, 0.5464899999999999, 0.6632], \"xaxis\": \"x\", \"y\": [0.9138700000000001, 0.80925, 0.76276, 0.79733, 0.72025, 0.72492, 0.74716, 0.7038, 0.61766, 0.73172, 0.69639, 0.60954, 0.83947, 0.73793, 0.66015, 0.69805, 0.60237, 0.61712, 0.40064, 0.7219300000000001], \"yaxis\": \"y\"}, {\"hovertemplate\": \"<b>%{hovertext}</b><br><br>Region=Latin America and Caribbean<br>Year=2015<br>GDP=%{x}<br>LifeExpect=%{y}<br>Score=%{marker.size}<extra></extra>\", \"hovertext\": [\"Costa Rica\", \"Mexico\", \"Brazil\", \"Venezuela\", \"Panama\", \"Chile\", \"Argentina\", \"Uruguay\", \"Colombia\", \"Suriname\", \"Trinidad and Tobago\", \"El Salvador\", \"Guatemala\", \"Ecuador\", \"Bolivia\", \"Paraguay\", \"Nicaragua\", \"Peru\", \"Jamaica\", \"Dominican Republic\", \"Honduras\", \"Haiti\"], \"ids\": [\"Costa Rica\", \"Mexico\", \"Brazil\", \"Venezuela\", \"Panama\", \"Chile\", \"Argentina\", \"Uruguay\", \"Colombia\", \"Suriname\", \"Trinidad and Tobago\", \"El Salvador\", \"Guatemala\", \"Ecuador\", \"Bolivia\", \"Paraguay\", \"Nicaragua\", \"Peru\", \"Jamaica\", \"Dominican Republic\", \"Honduras\", \"Haiti\"], \"legendgroup\": \"Latin America and Caribbean\", \"marker\": {\"color\": \"#FFA15A\", \"size\": [7.226, 7.187, 6.983, 6.81, 6.7860000000000005, 6.67, 6.574, 6.485, 6.477, 6.269, 6.167999999999999, 6.13, 6.122999999999999, 5.975, 5.89, 5.877999999999999, 5.827999999999999, 5.824, 5.709, 4.885, 4.788, 4.518], \"sizemode\": \"area\", \"sizeref\": 0.0189675, \"symbol\": \"circle\"}, \"mode\": \"markers\", \"name\": \"Latin America and Caribbean\", \"orientation\": \"v\", \"showlegend\": true, \"type\": \"scatter\", \"x\": [0.95578, 1.02054, 0.98124, 1.04424, 1.0635299999999999, 1.10715, 1.05351, 1.06166, 0.91861, 0.99534, 1.21183, 0.76454, 0.74553, 0.8640200000000001, 0.68133, 0.75985, 0.59325, 0.9001899999999999, 0.81038, 0.8953700000000001, 0.59532, 0.26673], \"xaxis\": \"x\", \"y\": [0.8602700000000001, 0.8144399999999999, 0.69702, 0.7205199999999999, 0.79661, 0.85857, 0.78723, 0.8116, 0.69077, 0.6082, 0.61483, 0.67737, 0.64425, 0.79075, 0.5392, 0.66098, 0.7431399999999999, 0.73017, 0.6874100000000001, 0.66825, 0.6951, 0.38847], \"yaxis\": \"y\"}, {\"hovertemplate\": \"<b>%{hovertext}</b><br><br>Region=Southeastern Asia<br>Year=2015<br>GDP=%{x}<br>LifeExpect=%{y}<br>Score=%{marker.size}<extra></extra>\", \"hovertext\": [\"Singapore\", \"Thailand\", \"Malaysia\", \"Indonesia\", \"Vietnam\", \"Philippines\", \"Laos\", \"Myanmar\", \"Cambodia\"], \"ids\": [\"Singapore\", \"Thailand\", \"Malaysia\", \"Indonesia\", \"Vietnam\", \"Philippines\", \"Laos\", \"Myanmar\", \"Cambodia\"], \"legendgroup\": \"Southeastern Asia\", \"marker\": {\"color\": \"#19d3f3\", \"size\": [6.797999999999999, 6.455, 5.77, 5.399, 5.36, 5.073, 4.876, 4.3069999999999995, 3.819], \"sizemode\": \"area\", \"sizeref\": 0.0189675, \"symbol\": \"circle\"}, \"mode\": \"markers\", \"name\": \"Southeastern Asia\", \"orientation\": \"v\", \"showlegend\": true, \"type\": \"scatter\", \"x\": [1.52186, 0.9669, 1.12486, 0.8282700000000001, 0.63216, 0.70532, 0.5906600000000001, 0.27108000000000004, 0.46038], \"xaxis\": \"x\", \"y\": [1.02525, 0.7385, 0.7239399999999999, 0.63793, 0.7467600000000001, 0.58114, 0.54909, 0.48246000000000006, 0.61114], \"yaxis\": \"y\"}, {\"hovertemplate\": \"<b>%{hovertext}</b><br><br>Region=Central and Eastern Europe<br>Year=2015<br>GDP=%{x}<br>LifeExpect=%{y}<br>Score=%{marker.size}<extra></extra>\", \"hovertext\": [\"Czech Republic\", \"Uzbekistan\", \"Slovakia\", \"Moldova\", \"Kazakhstan\", \"Slovenia\", \"Lithuania\", \"Belarus\", \"Poland\", \"Croatia\", \"Russia\", \"Kosovo\", \"Turkmenistan\", \"Estonia\", \"Kyrgyzstan\", \"Azerbaijan\", \"Montenegro\", \"Romania\", \"Serbia\", \"Latvia\", \"Macedonia\", \"Albania\", \"Bosnia and Herzegovina\", \"Hungary\", \"Tajikistan\", \"Ukraine\", \"Armenia\", \"Georgia\", \"Bulgaria\"], \"ids\": [\"Czech Republic\", \"Uzbekistan\", \"Slovakia\", \"Moldova\", \"Kazakhstan\", \"Slovenia\", \"Lithuania\", \"Belarus\", \"Poland\", \"Croatia\", \"Russia\", \"Kosovo\", \"Turkmenistan\", \"Estonia\", \"Kyrgyzstan\", \"Azerbaijan\", \"Montenegro\", \"Romania\", \"Serbia\", \"Latvia\", \"Macedonia\", \"Albania\", \"Bosnia and Herzegovina\", \"Hungary\", \"Tajikistan\", \"Ukraine\", \"Armenia\", \"Georgia\", \"Bulgaria\"], \"legendgroup\": \"Central and Eastern Europe\", \"marker\": {\"color\": \"#FF6692\", \"size\": [6.505, 6.002999999999999, 5.995, 5.888999999999999, 5.855, 5.848, 5.832999999999999, 5.813, 5.791, 5.7589999999999995, 5.716, 5.5889999999999995, 5.547999999999999, 5.428999999999999, 5.2860000000000005, 5.212000000000001, 5.192, 5.124, 5.122999999999999, 5.098, 5.007, 4.959, 4.949, 4.8, 4.7860000000000005, 4.681, 4.35, 4.297, 4.218], \"sizemode\": \"area\", \"sizeref\": 0.0189675, \"symbol\": \"circle\"}, \"mode\": \"markers\", \"name\": \"Central and Eastern Europe\", \"orientation\": \"v\", \"showlegend\": true, \"type\": \"scatter\", \"x\": [1.17898, 0.63244, 1.1689100000000001, 0.59448, 1.1225399999999999, 1.18498, 1.14723, 1.0319200000000002, 1.12555, 1.08254, 1.13764, 0.80148, 0.95847, 1.15174, 0.47428000000000003, 1.02389, 0.9743799999999999, 1.04345, 0.92053, 1.11312, 0.91851, 0.8786700000000001, 0.8322299999999999, 1.12094, 0.39047, 0.79907, 0.7682100000000001, 0.7419, 1.01216], \"xaxis\": \"x\", \"y\": [0.84483, 0.59772, 0.7890199999999999, 0.61826, 0.64368, 0.8733700000000001, 0.73128, 0.7360800000000001, 0.77903, 0.78805, 0.6692600000000001, 0.63132, 0.53886, 0.77361, 0.65088, 0.64045, 0.72521, 0.7689, 0.74836, 0.72437, 0.73545, 0.81325, 0.79081, 0.75905, 0.5737899999999999, 0.6739, 0.7299, 0.72926, 0.76649], \"yaxis\": \"y\"}, {\"hovertemplate\": \"<b>%{hovertext}</b><br><br>Region=Eastern Asia<br>Year=2015<br>GDP=%{x}<br>LifeExpect=%{y}<br>Score=%{marker.size}<extra></extra>\", \"hovertext\": [\"Taiwan\", \"Japan\", \"South Korea\", \"Hong Kong\", \"China\", \"Mongolia\"], \"ids\": [\"Taiwan\", \"Japan\", \"South Korea\", \"Hong Kong\", \"China\", \"Mongolia\"], \"legendgroup\": \"Eastern Asia\", \"marker\": {\"color\": \"#B6E880\", \"size\": [6.297999999999999, 5.987, 5.984, 5.474, 5.14, 4.874], \"sizemode\": \"area\", \"sizeref\": 0.0189675, \"symbol\": \"circle\"}, \"mode\": \"markers\", \"name\": \"Eastern Asia\", \"orientation\": \"v\", \"showlegend\": true, \"type\": \"scatter\", \"x\": [1.29098, 1.27074, 1.24461, 1.38604, 0.89012, 0.82819], \"xaxis\": \"x\", \"y\": [0.8753, 0.99111, 0.9653799999999999, 1.01328, 0.81658, 0.60268], \"yaxis\": \"y\"}, {\"hovertemplate\": \"<b>%{hovertext}</b><br><br>Region=Sub-Saharan Africa<br>Year=2015<br>GDP=%{x}<br>LifeExpect=%{y}<br>Score=%{marker.size}<extra></extra>\", \"hovertext\": [\"Mauritius\", \"Nigeria\", \"Zambia\", \"Somaliland region\", \"Mozambique\", \"Lesotho\", \"Swaziland\", \"South Africa\", \"Ghana\", \"Zimbabwe\", \"Liberia\", \"Sudan\", \"Congo (Kinshasa)\", \"Ethiopia\", \"Sierra Leone\", \"Mauritania\", \"Kenya\", \"Djibouti\", \"Botswana\", \"Malawi\", \"Cameroon\", \"Angola\", \"Mali\", \"Congo (Brazzaville)\", \"Comoros\", \"Uganda\", \"Senegal\", \"Gabon\", \"Niger\", \"Tanzania\", \"Madagascar\", \"Central African Republic\", \"Chad\", \"Guinea\", \"Ivory Coast\", \"Burkina Faso\", \"Rwanda\", \"Benin\", \"Burundi\", \"Togo\"], \"ids\": [\"Mauritius\", \"Nigeria\", \"Zambia\", \"Somaliland region\", \"Mozambique\", \"Lesotho\", \"Swaziland\", \"South Africa\", \"Ghana\", \"Zimbabwe\", \"Liberia\", \"Sudan\", \"Congo (Kinshasa)\", \"Ethiopia\", \"Sierra Leone\", \"Mauritania\", \"Kenya\", \"Djibouti\", \"Botswana\", \"Malawi\", \"Cameroon\", \"Angola\", \"Mali\", \"Congo (Brazzaville)\", \"Comoros\", \"Uganda\", \"Senegal\", \"Gabon\", \"Niger\", \"Tanzania\", \"Madagascar\", \"Central African Republic\", \"Chad\", \"Guinea\", \"Ivory Coast\", \"Burkina Faso\", \"Rwanda\", \"Benin\", \"Burundi\", \"Togo\"], \"legendgroup\": \"Sub-Saharan Africa\", \"marker\": {\"color\": \"#FF97FF\", \"size\": [5.477, 5.268, 5.129, 5.0569999999999995, 4.971, 4.898, 4.867, 4.6419999999999995, 4.633, 4.61, 4.571000000000001, 4.55, 4.5169999999999995, 4.512, 4.507, 4.436, 4.419, 4.369, 4.332, 4.292, 4.252, 4.033, 3.995, 3.989, 3.9560000000000004, 3.931, 3.904, 3.8960000000000004, 3.845, 3.781, 3.681, 3.678, 3.667, 3.656, 3.655, 3.5869999999999997, 3.465, 3.34, 2.905, 2.839], \"sizemode\": \"area\", \"sizeref\": 0.0189675, \"symbol\": \"circle\"}, \"mode\": \"markers\", \"name\": \"Sub-Saharan Africa\", \"orientation\": \"v\", \"showlegend\": true, \"type\": \"scatter\", \"x\": [1.0076100000000001, 0.65435, 0.47038, 0.18847, 0.08308, 0.37545, 0.71206, 0.9204899999999999, 0.5455800000000001, 0.271, 0.0712, 0.52107, 0.0, 0.19072999999999998, 0.33024000000000003, 0.45407, 0.36471, 0.44025, 0.99355, 0.016040000000000002, 0.4225, 0.75778, 0.26074, 0.67866, 0.23906, 0.21101999999999999, 0.36498, 1.06024, 0.0694, 0.2852, 0.20824, 0.0785, 0.34193, 0.17417, 0.46534, 0.25811999999999996, 0.22208000000000003, 0.28665, 0.0153, 0.20868], \"xaxis\": \"x\", \"y\": [0.7095, 0.16007000000000002, 0.29924, 0.43873, 0.09131, 0.07612000000000001, 0.07566, 0.27688, 0.40131999999999995, 0.33475, 0.34201, 0.36878, 0.09806000000000001, 0.44055, 0.0, 0.35874, 0.41435, 0.36291, 0.047760000000000004, 0.22562, 0.23401999999999998, 0.16683, 0.20583, 0.31051, 0.36315, 0.33860999999999997, 0.4354, 0.43372, 0.29707, 0.38215, 0.46721, 0.06699, 0.1501, 0.24009, 0.15185, 0.27125, 0.42863999999999997, 0.3191, 0.22396, 0.28443], \"yaxis\": \"y\"}, {\"hovertemplate\": \"<b>%{hovertext}</b><br><br>Region=Southern Asia<br>Year=2015<br>GDP=%{x}<br>LifeExpect=%{y}<br>Score=%{marker.size}<extra></extra>\", \"hovertext\": [\"Bhutan\", \"Pakistan\", \"Bangladesh\", \"India\", \"Nepal\", \"Sri Lanka\", \"Afghanistan\"], \"ids\": [\"Bhutan\", \"Pakistan\", \"Bangladesh\", \"India\", \"Nepal\", \"Sri Lanka\", \"Afghanistan\"], \"legendgroup\": \"Southern Asia\", \"marker\": {\"color\": \"#FECB52\", \"size\": [5.252999999999999, 5.194, 4.694, 4.565, 4.513999999999999, 4.271, 3.575], \"sizemode\": \"area\", \"sizeref\": 0.0189675, \"symbol\": \"circle\"}, \"mode\": \"markers\", \"name\": \"Southern Asia\", \"orientation\": \"v\", \"showlegend\": true, \"type\": \"scatter\", \"x\": [0.77042, 0.59543, 0.39753, 0.64499, 0.35996999999999996, 0.83524, 0.31982], \"xaxis\": \"x\", \"y\": [0.57407, 0.51466, 0.60164, 0.5152899999999999, 0.5687399999999999, 0.70806, 0.30335], \"yaxis\": \"y\"}],                        {\"legend\": {\"itemsizing\": \"constant\", \"title\": {\"text\": \"Region\"}, \"tracegroupgap\": 0}, \"margin\": {\"t\": 60}, \"sliders\": [{\"active\": 0, \"currentvalue\": {\"prefix\": \"Year=\"}, \"len\": 0.9, \"pad\": {\"b\": 10, \"t\": 60}, \"steps\": [{\"args\": [[\"2015\"], {\"frame\": {\"duration\": 0, \"redraw\": false}, \"fromcurrent\": true, \"mode\": \"immediate\", \"transition\": {\"duration\": 0, \"easing\": \"linear\"}}], \"label\": \"2015\", \"method\": \"animate\"}, {\"args\": [[\"2016\"], {\"frame\": {\"duration\": 0, \"redraw\": false}, \"fromcurrent\": true, \"mode\": \"immediate\", \"transition\": {\"duration\": 0, \"easing\": \"linear\"}}], \"label\": \"2016\", \"method\": \"animate\"}], \"x\": 0.1, \"xanchor\": \"left\", \"y\": 0, \"yanchor\": \"top\"}], \"template\": {\"data\": {\"bar\": [{\"error_x\": {\"color\": \"#2a3f5f\"}, \"error_y\": {\"color\": \"#2a3f5f\"}, \"marker\": {\"line\": {\"color\": \"#E5ECF6\", \"width\": 0.5}}, \"type\": \"bar\"}], \"barpolar\": [{\"marker\": {\"line\": {\"color\": \"#E5ECF6\", \"width\": 0.5}}, \"type\": \"barpolar\"}], \"carpet\": [{\"aaxis\": {\"endlinecolor\": \"#2a3f5f\", \"gridcolor\": \"white\", \"linecolor\": \"white\", \"minorgridcolor\": \"white\", \"startlinecolor\": \"#2a3f5f\"}, \"baxis\": {\"endlinecolor\": \"#2a3f5f\", \"gridcolor\": \"white\", \"linecolor\": \"white\", \"minorgridcolor\": \"white\", \"startlinecolor\": \"#2a3f5f\"}, \"type\": \"carpet\"}], \"choropleth\": [{\"colorbar\": {\"outlinewidth\": 0, \"ticks\": \"\"}, \"type\": \"choropleth\"}], \"contour\": [{\"colorbar\": {\"outlinewidth\": 0, \"ticks\": \"\"}, \"colorscale\": [[0.0, \"#0d0887\"], [0.1111111111111111, \"#46039f\"], [0.2222222222222222, \"#7201a8\"], [0.3333333333333333, \"#9c179e\"], [0.4444444444444444, \"#bd3786\"], [0.5555555555555556, \"#d8576b\"], [0.6666666666666666, \"#ed7953\"], [0.7777777777777778, \"#fb9f3a\"], [0.8888888888888888, \"#fdca26\"], [1.0, \"#f0f921\"]], \"type\": \"contour\"}], \"contourcarpet\": [{\"colorbar\": {\"outlinewidth\": 0, \"ticks\": \"\"}, \"type\": \"contourcarpet\"}], \"heatmap\": [{\"colorbar\": {\"outlinewidth\": 0, \"ticks\": \"\"}, \"colorscale\": [[0.0, \"#0d0887\"], [0.1111111111111111, \"#46039f\"], [0.2222222222222222, \"#7201a8\"], [0.3333333333333333, \"#9c179e\"], [0.4444444444444444, \"#bd3786\"], [0.5555555555555556, \"#d8576b\"], [0.6666666666666666, \"#ed7953\"], [0.7777777777777778, \"#fb9f3a\"], [0.8888888888888888, \"#fdca26\"], [1.0, \"#f0f921\"]], \"type\": \"heatmap\"}], \"heatmapgl\": [{\"colorbar\": {\"outlinewidth\": 0, \"ticks\": \"\"}, \"colorscale\": [[0.0, \"#0d0887\"], [0.1111111111111111, \"#46039f\"], [0.2222222222222222, \"#7201a8\"], [0.3333333333333333, \"#9c179e\"], [0.4444444444444444, \"#bd3786\"], [0.5555555555555556, \"#d8576b\"], [0.6666666666666666, \"#ed7953\"], [0.7777777777777778, \"#fb9f3a\"], [0.8888888888888888, \"#fdca26\"], [1.0, \"#f0f921\"]], \"type\": \"heatmapgl\"}], \"histogram\": [{\"marker\": {\"colorbar\": {\"outlinewidth\": 0, \"ticks\": \"\"}}, \"type\": \"histogram\"}], \"histogram2d\": [{\"colorbar\": {\"outlinewidth\": 0, \"ticks\": \"\"}, \"colorscale\": [[0.0, \"#0d0887\"], [0.1111111111111111, \"#46039f\"], [0.2222222222222222, \"#7201a8\"], [0.3333333333333333, \"#9c179e\"], [0.4444444444444444, \"#bd3786\"], [0.5555555555555556, \"#d8576b\"], [0.6666666666666666, \"#ed7953\"], [0.7777777777777778, \"#fb9f3a\"], [0.8888888888888888, \"#fdca26\"], [1.0, \"#f0f921\"]], \"type\": \"histogram2d\"}], \"histogram2dcontour\": [{\"colorbar\": {\"outlinewidth\": 0, \"ticks\": \"\"}, \"colorscale\": [[0.0, \"#0d0887\"], [0.1111111111111111, \"#46039f\"], [0.2222222222222222, \"#7201a8\"], [0.3333333333333333, \"#9c179e\"], [0.4444444444444444, \"#bd3786\"], [0.5555555555555556, \"#d8576b\"], [0.6666666666666666, \"#ed7953\"], [0.7777777777777778, \"#fb9f3a\"], [0.8888888888888888, \"#fdca26\"], [1.0, \"#f0f921\"]], \"type\": \"histogram2dcontour\"}], \"mesh3d\": [{\"colorbar\": {\"outlinewidth\": 0, \"ticks\": \"\"}, \"type\": \"mesh3d\"}], \"parcoords\": [{\"line\": {\"colorbar\": {\"outlinewidth\": 0, \"ticks\": \"\"}}, \"type\": \"parcoords\"}], \"pie\": [{\"automargin\": true, \"type\": \"pie\"}], \"scatter\": [{\"marker\": {\"colorbar\": {\"outlinewidth\": 0, \"ticks\": \"\"}}, \"type\": \"scatter\"}], \"scatter3d\": [{\"line\": {\"colorbar\": {\"outlinewidth\": 0, \"ticks\": \"\"}}, \"marker\": {\"colorbar\": {\"outlinewidth\": 0, \"ticks\": \"\"}}, \"type\": \"scatter3d\"}], \"scattercarpet\": [{\"marker\": {\"colorbar\": {\"outlinewidth\": 0, \"ticks\": \"\"}}, \"type\": \"scattercarpet\"}], \"scattergeo\": [{\"marker\": {\"colorbar\": {\"outlinewidth\": 0, \"ticks\": \"\"}}, \"type\": \"scattergeo\"}], \"scattergl\": [{\"marker\": {\"colorbar\": {\"outlinewidth\": 0, \"ticks\": \"\"}}, \"type\": \"scattergl\"}], \"scattermapbox\": [{\"marker\": {\"colorbar\": {\"outlinewidth\": 0, \"ticks\": \"\"}}, \"type\": \"scattermapbox\"}], \"scatterpolar\": [{\"marker\": {\"colorbar\": {\"outlinewidth\": 0, \"ticks\": \"\"}}, \"type\": \"scatterpolar\"}], \"scatterpolargl\": [{\"marker\": {\"colorbar\": {\"outlinewidth\": 0, \"ticks\": \"\"}}, \"type\": \"scatterpolargl\"}], \"scatterternary\": [{\"marker\": {\"colorbar\": {\"outlinewidth\": 0, \"ticks\": \"\"}}, \"type\": \"scatterternary\"}], \"surface\": [{\"colorbar\": {\"outlinewidth\": 0, \"ticks\": \"\"}, \"colorscale\": [[0.0, \"#0d0887\"], [0.1111111111111111, \"#46039f\"], [0.2222222222222222, \"#7201a8\"], [0.3333333333333333, \"#9c179e\"], [0.4444444444444444, \"#bd3786\"], [0.5555555555555556, \"#d8576b\"], [0.6666666666666666, \"#ed7953\"], [0.7777777777777778, \"#fb9f3a\"], [0.8888888888888888, \"#fdca26\"], [1.0, \"#f0f921\"]], \"type\": \"surface\"}], \"table\": [{\"cells\": {\"fill\": {\"color\": \"#EBF0F8\"}, \"line\": {\"color\": \"white\"}}, \"header\": {\"fill\": {\"color\": \"#C8D4E3\"}, \"line\": {\"color\": \"white\"}}, \"type\": \"table\"}]}, \"layout\": {\"annotationdefaults\": {\"arrowcolor\": \"#2a3f5f\", \"arrowhead\": 0, \"arrowwidth\": 1}, \"coloraxis\": {\"colorbar\": {\"outlinewidth\": 0, \"ticks\": \"\"}}, \"colorscale\": {\"diverging\": [[0, \"#8e0152\"], [0.1, \"#c51b7d\"], [0.2, \"#de77ae\"], [0.3, \"#f1b6da\"], [0.4, \"#fde0ef\"], [0.5, \"#f7f7f7\"], [0.6, \"#e6f5d0\"], [0.7, \"#b8e186\"], [0.8, \"#7fbc41\"], [0.9, \"#4d9221\"], [1, \"#276419\"]], \"sequential\": [[0.0, \"#0d0887\"], [0.1111111111111111, \"#46039f\"], [0.2222222222222222, \"#7201a8\"], [0.3333333333333333, \"#9c179e\"], [0.4444444444444444, \"#bd3786\"], [0.5555555555555556, \"#d8576b\"], [0.6666666666666666, \"#ed7953\"], [0.7777777777777778, \"#fb9f3a\"], [0.8888888888888888, \"#fdca26\"], [1.0, \"#f0f921\"]], \"sequentialminus\": [[0.0, \"#0d0887\"], [0.1111111111111111, \"#46039f\"], [0.2222222222222222, \"#7201a8\"], [0.3333333333333333, \"#9c179e\"], [0.4444444444444444, \"#bd3786\"], [0.5555555555555556, \"#d8576b\"], [0.6666666666666666, \"#ed7953\"], [0.7777777777777778, \"#fb9f3a\"], [0.8888888888888888, \"#fdca26\"], [1.0, \"#f0f921\"]]}, \"colorway\": [\"#636efa\", \"#EF553B\", \"#00cc96\", \"#ab63fa\", \"#FFA15A\", \"#19d3f3\", \"#FF6692\", \"#B6E880\", \"#FF97FF\", \"#FECB52\"], \"font\": {\"color\": \"#2a3f5f\"}, \"geo\": {\"bgcolor\": \"white\", \"lakecolor\": \"white\", \"landcolor\": \"#E5ECF6\", \"showlakes\": true, \"showland\": true, \"subunitcolor\": \"white\"}, \"hoverlabel\": {\"align\": \"left\"}, \"hovermode\": \"closest\", \"mapbox\": {\"style\": \"light\"}, \"paper_bgcolor\": \"white\", \"plot_bgcolor\": \"#E5ECF6\", \"polar\": {\"angularaxis\": {\"gridcolor\": \"white\", \"linecolor\": \"white\", \"ticks\": \"\"}, \"bgcolor\": \"#E5ECF6\", \"radialaxis\": {\"gridcolor\": \"white\", \"linecolor\": \"white\", \"ticks\": \"\"}}, \"scene\": {\"xaxis\": {\"backgroundcolor\": \"#E5ECF6\", \"gridcolor\": \"white\", \"gridwidth\": 2, \"linecolor\": \"white\", \"showbackground\": true, \"ticks\": \"\", \"zerolinecolor\": \"white\"}, \"yaxis\": {\"backgroundcolor\": \"#E5ECF6\", \"gridcolor\": \"white\", \"gridwidth\": 2, \"linecolor\": \"white\", \"showbackground\": true, \"ticks\": \"\", \"zerolinecolor\": \"white\"}, \"zaxis\": {\"backgroundcolor\": \"#E5ECF6\", \"gridcolor\": \"white\", \"gridwidth\": 2, \"linecolor\": \"white\", \"showbackground\": true, \"ticks\": \"\", \"zerolinecolor\": \"white\"}}, \"shapedefaults\": {\"line\": {\"color\": \"#2a3f5f\"}}, \"ternary\": {\"aaxis\": {\"gridcolor\": \"white\", \"linecolor\": \"white\", \"ticks\": \"\"}, \"baxis\": {\"gridcolor\": \"white\", \"linecolor\": \"white\", \"ticks\": \"\"}, \"bgcolor\": \"#E5ECF6\", \"caxis\": {\"gridcolor\": \"white\", \"linecolor\": \"white\", \"ticks\": \"\"}}, \"title\": {\"x\": 0.05}, \"xaxis\": {\"automargin\": true, \"gridcolor\": \"white\", \"linecolor\": \"white\", \"ticks\": \"\", \"title\": {\"standoff\": 15}, \"zerolinecolor\": \"white\", \"zerolinewidth\": 2}, \"yaxis\": {\"automargin\": true, \"gridcolor\": \"white\", \"linecolor\": \"white\", \"ticks\": \"\", \"title\": {\"standoff\": 15}, \"zerolinecolor\": \"white\", \"zerolinewidth\": 2}}}, \"updatemenus\": [{\"buttons\": [{\"args\": [null, {\"frame\": {\"duration\": 500, \"redraw\": false}, \"fromcurrent\": true, \"mode\": \"immediate\", \"transition\": {\"duration\": 500, \"easing\": \"linear\"}}], \"label\": \"&#9654;\", \"method\": \"animate\"}, {\"args\": [[null], {\"frame\": {\"duration\": 0, \"redraw\": false}, \"fromcurrent\": true, \"mode\": \"immediate\", \"transition\": {\"duration\": 0, \"easing\": \"linear\"}}], \"label\": \"&#9724;\", \"method\": \"animate\"}], \"direction\": \"left\", \"pad\": {\"r\": 10, \"t\": 70}, \"showactive\": false, \"type\": \"buttons\", \"x\": 0.1, \"xanchor\": \"right\", \"y\": 0, \"yanchor\": \"top\"}], \"xaxis\": {\"anchor\": \"y\", \"domain\": [0.0, 1.0], \"title\": {\"text\": \"GDP\"}}, \"yaxis\": {\"anchor\": \"x\", \"domain\": [0.0, 1.0], \"title\": {\"text\": \"LifeExpect\"}}},                        {\"responsive\": true}                    ).then(function(){\n",
              "                            Plotly.addFrames('e3ac8b6f-ff45-4630-bbd5-5bf2459ebf18', [{\"data\": [{\"hovertemplate\": \"<b>%{hovertext}</b><br><br>Region=Western Europe<br>Year=2015<br>GDP=%{x}<br>LifeExpect=%{y}<br>Score=%{marker.size}<extra></extra>\", \"hovertext\": [\"Switzerland\", \"Iceland\", \"Denmark\", \"Norway\", \"Finland\", \"Netherlands\", \"Sweden\", \"Austria\", \"Luxembourg\", \"Ireland\", \"Belgium\", \"United Kingdom\", \"Germany\", \"France\", \"Spain\", \"Malta\", \"Italy\", \"North Cyprus\", \"Cyprus\", \"Portugal\", \"Greece\"], \"ids\": [\"Switzerland\", \"Iceland\", \"Denmark\", \"Norway\", \"Finland\", \"Netherlands\", \"Sweden\", \"Austria\", \"Luxembourg\", \"Ireland\", \"Belgium\", \"United Kingdom\", \"Germany\", \"France\", \"Spain\", \"Malta\", \"Italy\", \"North Cyprus\", \"Cyprus\", \"Portugal\", \"Greece\"], \"legendgroup\": \"Western Europe\", \"marker\": {\"color\": \"#636efa\", \"size\": [7.587000000000001, 7.561, 7.527, 7.522, 7.406000000000001, 7.377999999999999, 7.364, 7.2, 6.946000000000001, 6.94, 6.937, 6.867000000000001, 6.75, 6.575, 6.329, 6.3020000000000005, 5.9479999999999995, 5.695, 5.689, 5.102, 4.857], \"sizemode\": \"area\", \"sizeref\": 0.0189675, \"symbol\": \"circle\"}, \"mode\": \"markers\", \"name\": \"Western Europe\", \"orientation\": \"v\", \"showlegend\": true, \"x\": [1.3965100000000001, 1.3023200000000001, 1.32548, 1.459, 1.29025, 1.32944, 1.33171, 1.33723, 1.5639100000000001, 1.33596, 1.30782, 1.26637, 1.32792, 1.27778, 1.23011, 1.2074, 1.25114, 1.2080600000000001, 1.20813, 1.15991, 1.15406], \"xaxis\": \"x\", \"y\": [0.9414299999999999, 0.94784, 0.87464, 0.88521, 0.8891100000000001, 0.89284, 0.9108700000000001, 0.8904200000000001, 0.91894, 0.89533, 0.8966700000000001, 0.90943, 0.89186, 0.9457899999999999, 0.95562, 0.88721, 0.9544600000000001, 0.92356, 0.92356, 0.8751899999999999, 0.88213], \"yaxis\": \"y\", \"type\": \"scatter\"}, {\"hovertemplate\": \"<b>%{hovertext}</b><br><br>Region=North America<br>Year=2015<br>GDP=%{x}<br>LifeExpect=%{y}<br>Score=%{marker.size}<extra></extra>\", \"hovertext\": [\"Canada\", \"United States\"], \"ids\": [\"Canada\", \"United States\"], \"legendgroup\": \"North America\", \"marker\": {\"color\": \"#EF553B\", \"size\": [7.4270000000000005, 7.119], \"sizemode\": \"area\", \"sizeref\": 0.0189675, \"symbol\": \"circle\"}, \"mode\": \"markers\", \"name\": \"North America\", \"orientation\": \"v\", \"showlegend\": true, \"x\": [1.32629, 1.3945100000000001], \"xaxis\": \"x\", \"y\": [0.9056299999999999, 0.86179], \"yaxis\": \"y\", \"type\": \"scatter\"}, {\"hovertemplate\": \"<b>%{hovertext}</b><br><br>Region=Australia and New Zealand<br>Year=2015<br>GDP=%{x}<br>LifeExpect=%{y}<br>Score=%{marker.size}<extra></extra>\", \"hovertext\": [\"New Zealand\", \"Australia\"], \"ids\": [\"New Zealand\", \"Australia\"], \"legendgroup\": \"Australia and New Zealand\", \"marker\": {\"color\": \"#00cc96\", \"size\": [7.2860000000000005, 7.284], \"sizemode\": \"area\", \"sizeref\": 0.0189675, \"symbol\": \"circle\"}, \"mode\": \"markers\", \"name\": \"Australia and New Zealand\", \"orientation\": \"v\", \"showlegend\": true, \"x\": [1.2501799999999998, 1.33358], \"xaxis\": \"x\", \"y\": [0.9083700000000001, 0.93156], \"yaxis\": \"y\", \"type\": \"scatter\"}, {\"hovertemplate\": \"<b>%{hovertext}</b><br><br>Region=Middle East and Northern Africa<br>Year=2015<br>GDP=%{x}<br>LifeExpect=%{y}<br>Score=%{marker.size}<extra></extra>\", \"hovertext\": [\"Israel\", \"United Arab Emirates\", \"Oman\", \"Qatar\", \"Saudi Arabia\", \"Kuwait\", \"Bahrain\", \"Libya\", \"Algeria\", \"Turkey\", \"Jordan\", \"Morocco\", \"Lebanon\", \"Tunisia\", \"Palestinian Territories\", \"Iran\", \"Iraq\", \"Egypt\", \"Yemen\", \"Syria\"], \"ids\": [\"Israel\", \"United Arab Emirates\", \"Oman\", \"Qatar\", \"Saudi Arabia\", \"Kuwait\", \"Bahrain\", \"Libya\", \"Algeria\", \"Turkey\", \"Jordan\", \"Morocco\", \"Lebanon\", \"Tunisia\", \"Palestinian Territories\", \"Iran\", \"Iraq\", \"Egypt\", \"Yemen\", \"Syria\"], \"legendgroup\": \"Middle East and Northern Africa\", \"marker\": {\"color\": \"#ab63fa\", \"size\": [7.278, 6.901, 6.853, 6.611000000000001, 6.4110000000000005, 6.295, 5.96, 5.754, 5.605, 5.332000000000001, 5.192, 5.013, 4.8389999999999995, 4.739, 4.715, 4.686, 4.677, 4.194, 4.077, 3.0060000000000002], \"sizemode\": \"area\", \"sizeref\": 0.0189675, \"symbol\": \"circle\"}, \"mode\": \"markers\", \"name\": \"Middle East and Northern Africa\", \"orientation\": \"v\", \"showlegend\": true, \"x\": [1.2285700000000002, 1.42727, 1.36011, 1.69042, 1.39541, 1.5542200000000002, 1.32376, 1.13145, 0.93929, 1.06098, 0.9019799999999999, 0.7347899999999999, 1.0256399999999999, 0.88113, 0.59867, 1.0088, 0.98549, 0.8818, 0.5464899999999999, 0.6632], \"xaxis\": \"x\", \"y\": [0.9138700000000001, 0.80925, 0.76276, 0.79733, 0.72025, 0.72492, 0.74716, 0.7038, 0.61766, 0.73172, 0.69639, 0.60954, 0.83947, 0.73793, 0.66015, 0.69805, 0.60237, 0.61712, 0.40064, 0.7219300000000001], \"yaxis\": \"y\", \"type\": \"scatter\"}, {\"hovertemplate\": \"<b>%{hovertext}</b><br><br>Region=Latin America and Caribbean<br>Year=2015<br>GDP=%{x}<br>LifeExpect=%{y}<br>Score=%{marker.size}<extra></extra>\", \"hovertext\": [\"Costa Rica\", \"Mexico\", \"Brazil\", \"Venezuela\", \"Panama\", \"Chile\", \"Argentina\", \"Uruguay\", \"Colombia\", \"Suriname\", \"Trinidad and Tobago\", \"El Salvador\", \"Guatemala\", \"Ecuador\", \"Bolivia\", \"Paraguay\", \"Nicaragua\", \"Peru\", \"Jamaica\", \"Dominican Republic\", \"Honduras\", \"Haiti\"], \"ids\": [\"Costa Rica\", \"Mexico\", \"Brazil\", \"Venezuela\", \"Panama\", \"Chile\", \"Argentina\", \"Uruguay\", \"Colombia\", \"Suriname\", \"Trinidad and Tobago\", \"El Salvador\", \"Guatemala\", \"Ecuador\", \"Bolivia\", \"Paraguay\", \"Nicaragua\", \"Peru\", \"Jamaica\", \"Dominican Republic\", \"Honduras\", \"Haiti\"], \"legendgroup\": \"Latin America and Caribbean\", \"marker\": {\"color\": \"#FFA15A\", \"size\": [7.226, 7.187, 6.983, 6.81, 6.7860000000000005, 6.67, 6.574, 6.485, 6.477, 6.269, 6.167999999999999, 6.13, 6.122999999999999, 5.975, 5.89, 5.877999999999999, 5.827999999999999, 5.824, 5.709, 4.885, 4.788, 4.518], \"sizemode\": \"area\", \"sizeref\": 0.0189675, \"symbol\": \"circle\"}, \"mode\": \"markers\", \"name\": \"Latin America and Caribbean\", \"orientation\": \"v\", \"showlegend\": true, \"x\": [0.95578, 1.02054, 0.98124, 1.04424, 1.0635299999999999, 1.10715, 1.05351, 1.06166, 0.91861, 0.99534, 1.21183, 0.76454, 0.74553, 0.8640200000000001, 0.68133, 0.75985, 0.59325, 0.9001899999999999, 0.81038, 0.8953700000000001, 0.59532, 0.26673], \"xaxis\": \"x\", \"y\": [0.8602700000000001, 0.8144399999999999, 0.69702, 0.7205199999999999, 0.79661, 0.85857, 0.78723, 0.8116, 0.69077, 0.6082, 0.61483, 0.67737, 0.64425, 0.79075, 0.5392, 0.66098, 0.7431399999999999, 0.73017, 0.6874100000000001, 0.66825, 0.6951, 0.38847], \"yaxis\": \"y\", \"type\": \"scatter\"}, {\"hovertemplate\": \"<b>%{hovertext}</b><br><br>Region=Southeastern Asia<br>Year=2015<br>GDP=%{x}<br>LifeExpect=%{y}<br>Score=%{marker.size}<extra></extra>\", \"hovertext\": [\"Singapore\", \"Thailand\", \"Malaysia\", \"Indonesia\", \"Vietnam\", \"Philippines\", \"Laos\", \"Myanmar\", \"Cambodia\"], \"ids\": [\"Singapore\", \"Thailand\", \"Malaysia\", \"Indonesia\", \"Vietnam\", \"Philippines\", \"Laos\", \"Myanmar\", \"Cambodia\"], \"legendgroup\": \"Southeastern Asia\", \"marker\": {\"color\": \"#19d3f3\", \"size\": [6.797999999999999, 6.455, 5.77, 5.399, 5.36, 5.073, 4.876, 4.3069999999999995, 3.819], \"sizemode\": \"area\", \"sizeref\": 0.0189675, \"symbol\": \"circle\"}, \"mode\": \"markers\", \"name\": \"Southeastern Asia\", \"orientation\": \"v\", \"showlegend\": true, \"x\": [1.52186, 0.9669, 1.12486, 0.8282700000000001, 0.63216, 0.70532, 0.5906600000000001, 0.27108000000000004, 0.46038], \"xaxis\": \"x\", \"y\": [1.02525, 0.7385, 0.7239399999999999, 0.63793, 0.7467600000000001, 0.58114, 0.54909, 0.48246000000000006, 0.61114], \"yaxis\": \"y\", \"type\": \"scatter\"}, {\"hovertemplate\": \"<b>%{hovertext}</b><br><br>Region=Central and Eastern Europe<br>Year=2015<br>GDP=%{x}<br>LifeExpect=%{y}<br>Score=%{marker.size}<extra></extra>\", \"hovertext\": [\"Czech Republic\", \"Uzbekistan\", \"Slovakia\", \"Moldova\", \"Kazakhstan\", \"Slovenia\", \"Lithuania\", \"Belarus\", \"Poland\", \"Croatia\", \"Russia\", \"Kosovo\", \"Turkmenistan\", \"Estonia\", \"Kyrgyzstan\", \"Azerbaijan\", \"Montenegro\", \"Romania\", \"Serbia\", \"Latvia\", \"Macedonia\", \"Albania\", \"Bosnia and Herzegovina\", \"Hungary\", \"Tajikistan\", \"Ukraine\", \"Armenia\", \"Georgia\", \"Bulgaria\"], \"ids\": [\"Czech Republic\", \"Uzbekistan\", \"Slovakia\", \"Moldova\", \"Kazakhstan\", \"Slovenia\", \"Lithuania\", \"Belarus\", \"Poland\", \"Croatia\", \"Russia\", \"Kosovo\", \"Turkmenistan\", \"Estonia\", \"Kyrgyzstan\", \"Azerbaijan\", \"Montenegro\", \"Romania\", \"Serbia\", \"Latvia\", \"Macedonia\", \"Albania\", \"Bosnia and Herzegovina\", \"Hungary\", \"Tajikistan\", \"Ukraine\", \"Armenia\", \"Georgia\", \"Bulgaria\"], \"legendgroup\": \"Central and Eastern Europe\", \"marker\": {\"color\": \"#FF6692\", \"size\": [6.505, 6.002999999999999, 5.995, 5.888999999999999, 5.855, 5.848, 5.832999999999999, 5.813, 5.791, 5.7589999999999995, 5.716, 5.5889999999999995, 5.547999999999999, 5.428999999999999, 5.2860000000000005, 5.212000000000001, 5.192, 5.124, 5.122999999999999, 5.098, 5.007, 4.959, 4.949, 4.8, 4.7860000000000005, 4.681, 4.35, 4.297, 4.218], \"sizemode\": \"area\", \"sizeref\": 0.0189675, \"symbol\": \"circle\"}, \"mode\": \"markers\", \"name\": \"Central and Eastern Europe\", \"orientation\": \"v\", \"showlegend\": true, \"x\": [1.17898, 0.63244, 1.1689100000000001, 0.59448, 1.1225399999999999, 1.18498, 1.14723, 1.0319200000000002, 1.12555, 1.08254, 1.13764, 0.80148, 0.95847, 1.15174, 0.47428000000000003, 1.02389, 0.9743799999999999, 1.04345, 0.92053, 1.11312, 0.91851, 0.8786700000000001, 0.8322299999999999, 1.12094, 0.39047, 0.79907, 0.7682100000000001, 0.7419, 1.01216], \"xaxis\": \"x\", \"y\": [0.84483, 0.59772, 0.7890199999999999, 0.61826, 0.64368, 0.8733700000000001, 0.73128, 0.7360800000000001, 0.77903, 0.78805, 0.6692600000000001, 0.63132, 0.53886, 0.77361, 0.65088, 0.64045, 0.72521, 0.7689, 0.74836, 0.72437, 0.73545, 0.81325, 0.79081, 0.75905, 0.5737899999999999, 0.6739, 0.7299, 0.72926, 0.76649], \"yaxis\": \"y\", \"type\": \"scatter\"}, {\"hovertemplate\": \"<b>%{hovertext}</b><br><br>Region=Eastern Asia<br>Year=2015<br>GDP=%{x}<br>LifeExpect=%{y}<br>Score=%{marker.size}<extra></extra>\", \"hovertext\": [\"Taiwan\", \"Japan\", \"South Korea\", \"Hong Kong\", \"China\", \"Mongolia\"], \"ids\": [\"Taiwan\", \"Japan\", \"South Korea\", \"Hong Kong\", \"China\", \"Mongolia\"], \"legendgroup\": \"Eastern Asia\", \"marker\": {\"color\": \"#B6E880\", \"size\": [6.297999999999999, 5.987, 5.984, 5.474, 5.14, 4.874], \"sizemode\": \"area\", \"sizeref\": 0.0189675, \"symbol\": \"circle\"}, \"mode\": \"markers\", \"name\": \"Eastern Asia\", \"orientation\": \"v\", \"showlegend\": true, \"x\": [1.29098, 1.27074, 1.24461, 1.38604, 0.89012, 0.82819], \"xaxis\": \"x\", \"y\": [0.8753, 0.99111, 0.9653799999999999, 1.01328, 0.81658, 0.60268], \"yaxis\": \"y\", \"type\": \"scatter\"}, {\"hovertemplate\": \"<b>%{hovertext}</b><br><br>Region=Sub-Saharan Africa<br>Year=2015<br>GDP=%{x}<br>LifeExpect=%{y}<br>Score=%{marker.size}<extra></extra>\", \"hovertext\": [\"Mauritius\", \"Nigeria\", \"Zambia\", \"Somaliland region\", \"Mozambique\", \"Lesotho\", \"Swaziland\", \"South Africa\", \"Ghana\", \"Zimbabwe\", \"Liberia\", \"Sudan\", \"Congo (Kinshasa)\", \"Ethiopia\", \"Sierra Leone\", \"Mauritania\", \"Kenya\", \"Djibouti\", \"Botswana\", \"Malawi\", \"Cameroon\", \"Angola\", \"Mali\", \"Congo (Brazzaville)\", \"Comoros\", \"Uganda\", \"Senegal\", \"Gabon\", \"Niger\", \"Tanzania\", \"Madagascar\", \"Central African Republic\", \"Chad\", \"Guinea\", \"Ivory Coast\", \"Burkina Faso\", \"Rwanda\", \"Benin\", \"Burundi\", \"Togo\"], \"ids\": [\"Mauritius\", \"Nigeria\", \"Zambia\", \"Somaliland region\", \"Mozambique\", \"Lesotho\", \"Swaziland\", \"South Africa\", \"Ghana\", \"Zimbabwe\", \"Liberia\", \"Sudan\", \"Congo (Kinshasa)\", \"Ethiopia\", \"Sierra Leone\", \"Mauritania\", \"Kenya\", \"Djibouti\", \"Botswana\", \"Malawi\", \"Cameroon\", \"Angola\", \"Mali\", \"Congo (Brazzaville)\", \"Comoros\", \"Uganda\", \"Senegal\", \"Gabon\", \"Niger\", \"Tanzania\", \"Madagascar\", \"Central African Republic\", \"Chad\", \"Guinea\", \"Ivory Coast\", \"Burkina Faso\", \"Rwanda\", \"Benin\", \"Burundi\", \"Togo\"], \"legendgroup\": \"Sub-Saharan Africa\", \"marker\": {\"color\": \"#FF97FF\", \"size\": [5.477, 5.268, 5.129, 5.0569999999999995, 4.971, 4.898, 4.867, 4.6419999999999995, 4.633, 4.61, 4.571000000000001, 4.55, 4.5169999999999995, 4.512, 4.507, 4.436, 4.419, 4.369, 4.332, 4.292, 4.252, 4.033, 3.995, 3.989, 3.9560000000000004, 3.931, 3.904, 3.8960000000000004, 3.845, 3.781, 3.681, 3.678, 3.667, 3.656, 3.655, 3.5869999999999997, 3.465, 3.34, 2.905, 2.839], \"sizemode\": \"area\", \"sizeref\": 0.0189675, \"symbol\": \"circle\"}, \"mode\": \"markers\", \"name\": \"Sub-Saharan Africa\", \"orientation\": \"v\", \"showlegend\": true, \"x\": [1.0076100000000001, 0.65435, 0.47038, 0.18847, 0.08308, 0.37545, 0.71206, 0.9204899999999999, 0.5455800000000001, 0.271, 0.0712, 0.52107, 0.0, 0.19072999999999998, 0.33024000000000003, 0.45407, 0.36471, 0.44025, 0.99355, 0.016040000000000002, 0.4225, 0.75778, 0.26074, 0.67866, 0.23906, 0.21101999999999999, 0.36498, 1.06024, 0.0694, 0.2852, 0.20824, 0.0785, 0.34193, 0.17417, 0.46534, 0.25811999999999996, 0.22208000000000003, 0.28665, 0.0153, 0.20868], \"xaxis\": \"x\", \"y\": [0.7095, 0.16007000000000002, 0.29924, 0.43873, 0.09131, 0.07612000000000001, 0.07566, 0.27688, 0.40131999999999995, 0.33475, 0.34201, 0.36878, 0.09806000000000001, 0.44055, 0.0, 0.35874, 0.41435, 0.36291, 0.047760000000000004, 0.22562, 0.23401999999999998, 0.16683, 0.20583, 0.31051, 0.36315, 0.33860999999999997, 0.4354, 0.43372, 0.29707, 0.38215, 0.46721, 0.06699, 0.1501, 0.24009, 0.15185, 0.27125, 0.42863999999999997, 0.3191, 0.22396, 0.28443], \"yaxis\": \"y\", \"type\": \"scatter\"}, {\"hovertemplate\": \"<b>%{hovertext}</b><br><br>Region=Southern Asia<br>Year=2015<br>GDP=%{x}<br>LifeExpect=%{y}<br>Score=%{marker.size}<extra></extra>\", \"hovertext\": [\"Bhutan\", \"Pakistan\", \"Bangladesh\", \"India\", \"Nepal\", \"Sri Lanka\", \"Afghanistan\"], \"ids\": [\"Bhutan\", \"Pakistan\", \"Bangladesh\", \"India\", \"Nepal\", \"Sri Lanka\", \"Afghanistan\"], \"legendgroup\": \"Southern Asia\", \"marker\": {\"color\": \"#FECB52\", \"size\": [5.252999999999999, 5.194, 4.694, 4.565, 4.513999999999999, 4.271, 3.575], \"sizemode\": \"area\", \"sizeref\": 0.0189675, \"symbol\": \"circle\"}, \"mode\": \"markers\", \"name\": \"Southern Asia\", \"orientation\": \"v\", \"showlegend\": true, \"x\": [0.77042, 0.59543, 0.39753, 0.64499, 0.35996999999999996, 0.83524, 0.31982], \"xaxis\": \"x\", \"y\": [0.57407, 0.51466, 0.60164, 0.5152899999999999, 0.5687399999999999, 0.70806, 0.30335], \"yaxis\": \"y\", \"type\": \"scatter\"}], \"name\": \"2015\"}, {\"data\": [{\"hovertemplate\": \"<b>%{hovertext}</b><br><br>Region=Western Europe<br>Year=2016<br>GDP=%{x}<br>LifeExpect=%{y}<br>Score=%{marker.size}<extra></extra>\", \"hovertext\": [\"Denmark\", \"Switzerland\", \"Iceland\", \"Norway\", \"Finland\", \"Netherlands\", \"Sweden\", \"Austria\", \"Germany\", \"Belgium\", \"Ireland\", \"Luxembourg\", \"United Kingdom\", \"Malta\", \"France\", \"Spain\", \"Italy\", \"North Cyprus\", \"Cyprus\", \"Portugal\", \"Greece\"], \"ids\": [\"Denmark\", \"Switzerland\", \"Iceland\", \"Norway\", \"Finland\", \"Netherlands\", \"Sweden\", \"Austria\", \"Germany\", \"Belgium\", \"Ireland\", \"Luxembourg\", \"United Kingdom\", \"Malta\", \"France\", \"Spain\", \"Italy\", \"North Cyprus\", \"Cyprus\", \"Portugal\", \"Greece\"], \"legendgroup\": \"Western Europe\", \"marker\": {\"color\": \"#636efa\", \"size\": [7.526, 7.5089999999999995, 7.501, 7.497999999999999, 7.412999999999999, 7.3389999999999995, 7.291, 7.119, 6.994, 6.928999999999999, 6.907, 6.871, 6.725, 6.4879999999999995, 6.478, 6.361000000000001, 5.977, 5.771, 5.546, 5.122999999999999, 5.033], \"sizemode\": \"area\", \"sizeref\": 0.0189675, \"symbol\": \"circle\"}, \"mode\": \"markers\", \"name\": \"Western Europe\", \"orientation\": \"v\", \"showlegend\": true, \"x\": [1.4417799999999998, 1.5273299999999999, 1.42666, 1.57744, 1.40598, 1.46468, 1.45181, 1.45038, 1.44787, 1.42539, 1.4834100000000001, 1.6975200000000001, 1.40283, 1.30782, 1.39488, 1.34253, 1.35495, 1.31141, 1.31857, 1.27607, 1.24886], \"xaxis\": \"x\", \"y\": [0.79504, 0.86303, 0.8673299999999999, 0.79579, 0.81091, 0.8123100000000001, 0.83121, 0.80565, 0.81487, 0.8195899999999999, 0.81455, 0.8454200000000001, 0.80991, 0.80315, 0.83795, 0.8789600000000001, 0.8510200000000001, 0.8414200000000001, 0.8488, 0.7936300000000001, 0.80029], \"yaxis\": \"y\", \"type\": \"scatter\"}, {\"hovertemplate\": \"<b>%{hovertext}</b><br><br>Region=North America<br>Year=2016<br>GDP=%{x}<br>LifeExpect=%{y}<br>Score=%{marker.size}<extra></extra>\", \"hovertext\": [\"Canada\", \"United States\"], \"ids\": [\"Canada\", \"United States\"], \"legendgroup\": \"North America\", \"marker\": {\"color\": \"#EF553B\", \"size\": [7.404, 7.104], \"sizemode\": \"area\", \"sizeref\": 0.0189675, \"symbol\": \"circle\"}, \"mode\": \"markers\", \"name\": \"North America\", \"orientation\": \"v\", \"showlegend\": true, \"x\": [1.44015, 1.50796], \"xaxis\": \"x\", \"y\": [0.8276, 0.779], \"yaxis\": \"y\", \"type\": \"scatter\"}, {\"hovertemplate\": \"<b>%{hovertext}</b><br><br>Region=Australia and New Zealand<br>Year=2016<br>GDP=%{x}<br>LifeExpect=%{y}<br>Score=%{marker.size}<extra></extra>\", \"hovertext\": [\"New Zealand\", \"Australia\"], \"ids\": [\"New Zealand\", \"Australia\"], \"legendgroup\": \"Australia and New Zealand\", \"marker\": {\"color\": \"#00cc96\", \"size\": [7.334, 7.313], \"sizemode\": \"area\", \"sizeref\": 0.0189675, \"symbol\": \"circle\"}, \"mode\": \"markers\", \"name\": \"Australia and New Zealand\", \"orientation\": \"v\", \"showlegend\": true, \"x\": [1.36066, 1.4444299999999999], \"xaxis\": \"x\", \"y\": [0.83096, 0.8512], \"yaxis\": \"y\", \"type\": \"scatter\"}, {\"hovertemplate\": \"<b>%{hovertext}</b><br><br>Region=Middle East and Northern Africa<br>Year=2016<br>GDP=%{x}<br>LifeExpect=%{y}<br>Score=%{marker.size}<extra></extra>\", \"hovertext\": [\"Israel\", \"United Arab Emirates\", \"Saudi Arabia\", \"Qatar\", \"Algeria\", \"Kuwait\", \"Bahrain\", \"Libya\", \"Turkey\", \"Jordan\", \"Morocco\", \"Lebanon\", \"Tunisia\", \"Iran\", \"Palestinian Territories\", \"Iraq\", \"Egypt\", \"Yemen\", \"Syria\"], \"ids\": [\"Israel\", \"United Arab Emirates\", \"Saudi Arabia\", \"Qatar\", \"Algeria\", \"Kuwait\", \"Bahrain\", \"Libya\", \"Turkey\", \"Jordan\", \"Morocco\", \"Lebanon\", \"Tunisia\", \"Iran\", \"Palestinian Territories\", \"Iraq\", \"Egypt\", \"Yemen\", \"Syria\"], \"legendgroup\": \"Middle East and Northern Africa\", \"marker\": {\"color\": \"#ab63fa\", \"size\": [7.267, 6.5729999999999995, 6.379, 6.375, 6.355, 6.239, 6.218, 5.615, 5.388999999999999, 5.303, 5.151, 5.129, 5.045, 4.813, 4.754, 4.575, 4.362, 3.7239999999999998, 3.069], \"sizemode\": \"area\", \"sizeref\": 0.0189675, \"symbol\": \"circle\"}, \"mode\": \"markers\", \"name\": \"Middle East and Northern Africa\", \"orientation\": \"v\", \"showlegend\": true, \"x\": [1.33766, 1.57352, 1.48953, 1.82427, 1.05266, 1.61714, 1.44024, 1.0668799999999998, 1.1649200000000002, 0.9967299999999999, 0.8405799999999999, 1.12268, 0.97724, 1.11758, 0.67024, 1.07474, 0.95395, 0.57939, 0.7471899999999999], \"xaxis\": \"x\", \"y\": [0.8491700000000001, 0.72993, 0.59267, 0.71723, 0.6180399999999999, 0.63569, 0.65696, 0.52304, 0.64718, 0.60712, 0.5947100000000001, 0.76171, 0.59577, 0.64232, 0.56844, 0.51076, 0.5211600000000001, 0.31048000000000003, 0.6299399999999999], \"yaxis\": \"y\", \"type\": \"scatter\"}, {\"hovertemplate\": \"<b>%{hovertext}</b><br><br>Region=Latin America and Caribbean<br>Year=2016<br>GDP=%{x}<br>LifeExpect=%{y}<br>Score=%{marker.size}<extra></extra>\", \"hovertext\": [\"Costa Rica\", \"Puerto Rico\", \"Brazil\", \"Mexico\", \"Chile\", \"Panama\", \"Argentina\", \"Uruguay\", \"Colombia\", \"Guatemala\", \"Suriname\", \"Trinidad and Tobago\", \"Venezuela\", \"El Salvador\", \"Nicaragua\", \"Ecuador\", \"Belize\", \"Bolivia\", \"Peru\", \"Paraguay\", \"Jamaica\", \"Dominican Republic\", \"Honduras\", \"Haiti\"], \"ids\": [\"Costa Rica\", \"Puerto Rico\", \"Brazil\", \"Mexico\", \"Chile\", \"Panama\", \"Argentina\", \"Uruguay\", \"Colombia\", \"Guatemala\", \"Suriname\", \"Trinidad and Tobago\", \"Venezuela\", \"El Salvador\", \"Nicaragua\", \"Ecuador\", \"Belize\", \"Bolivia\", \"Peru\", \"Paraguay\", \"Jamaica\", \"Dominican Republic\", \"Honduras\", \"Haiti\"], \"legendgroup\": \"Latin America and Caribbean\", \"marker\": {\"color\": \"#FFA15A\", \"size\": [7.087000000000001, 7.039, 6.952000000000001, 6.778, 6.705, 6.7010000000000005, 6.65, 6.545, 6.481, 6.324, 6.269, 6.167999999999999, 6.084, 6.068, 5.992000000000001, 5.976, 5.956, 5.822, 5.742999999999999, 5.537999999999999, 5.51, 5.155, 4.871, 4.0280000000000005], \"sizemode\": \"area\", \"sizeref\": 0.0189675, \"symbol\": \"circle\"}, \"mode\": \"markers\", \"name\": \"Latin America and Caribbean\", \"orientation\": \"v\", \"showlegend\": true, \"x\": [1.06879, 1.35943, 1.08754, 1.1150799999999998, 1.2167, 1.18306, 1.15137, 1.18157, 1.0303200000000001, 0.83454, 1.09686, 1.32572, 1.1336700000000002, 0.8737, 0.69384, 0.97306, 0.87616, 0.79422, 0.9960200000000001, 0.8937299999999999, 0.89333, 1.02787, 0.69429, 0.34097], \"xaxis\": \"x\", \"y\": [0.76146, 0.77758, 0.61415, 0.71143, 0.8188300000000001, 0.70835, 0.69711, 0.72183, 0.59659, 0.5403899999999999, 0.5093300000000001, 0.52608, 0.6190399999999999, 0.596, 0.65213, 0.68613, 0.45569, 0.4697, 0.6299399999999999, 0.58295, 0.5946899999999999, 0.5766899999999999, 0.5838300000000001, 0.27494], \"yaxis\": \"y\", \"type\": \"scatter\"}, {\"hovertemplate\": \"<b>%{hovertext}</b><br><br>Region=Southeastern Asia<br>Year=2016<br>GDP=%{x}<br>LifeExpect=%{y}<br>Score=%{marker.size}<extra></extra>\", \"hovertext\": [\"Singapore\", \"Thailand\", \"Malaysia\", \"Indonesia\", \"Philippines\", \"Vietnam\", \"Laos\", \"Myanmar\", \"Cambodia\"], \"ids\": [\"Singapore\", \"Thailand\", \"Malaysia\", \"Indonesia\", \"Philippines\", \"Vietnam\", \"Laos\", \"Myanmar\", \"Cambodia\"], \"legendgroup\": \"Southeastern Asia\", \"marker\": {\"color\": \"#19d3f3\", \"size\": [6.739, 6.474, 6.005, 5.314, 5.279, 5.061, 4.876, 4.395, 3.907], \"sizemode\": \"area\", \"sizeref\": 0.0189675, \"symbol\": \"circle\"}, \"mode\": \"markers\", \"name\": \"Southeastern Asia\", \"orientation\": \"v\", \"showlegend\": true, \"x\": [1.64555, 1.0893, 1.25142, 0.95104, 0.81217, 0.74037, 0.68042, 0.34112, 0.55604], \"xaxis\": \"x\", \"y\": [0.94719, 0.64915, 0.62366, 0.49373999999999996, 0.47036000000000006, 0.66157, 0.38291, 0.3988, 0.42494], \"yaxis\": \"y\", \"type\": \"scatter\"}, {\"hovertemplate\": \"<b>%{hovertext}</b><br><br>Region=Central and Eastern Europe<br>Year=2016<br>GDP=%{x}<br>LifeExpect=%{y}<br>Score=%{marker.size}<extra></extra>\", \"hovertext\": [\"Czech Republic\", \"Slovakia\", \"Uzbekistan\", \"Kazakhstan\", \"Moldova\", \"Russia\", \"Poland\", \"Lithuania\", \"Belarus\", \"Slovenia\", \"Turkmenistan\", \"Latvia\", \"Romania\", \"Estonia\", \"Croatia\", \"Kosovo\", \"Azerbaijan\", \"Kyrgyzstan\", \"Serbia\", \"Bosnia and Herzegovina\", \"Montenegro\", \"Hungary\", \"Macedonia\", \"Tajikistan\", \"Albania\", \"Armenia\", \"Ukraine\", \"Georgia\", \"Bulgaria\"], \"ids\": [\"Czech Republic\", \"Slovakia\", \"Uzbekistan\", \"Kazakhstan\", \"Moldova\", \"Russia\", \"Poland\", \"Lithuania\", \"Belarus\", \"Slovenia\", \"Turkmenistan\", \"Latvia\", \"Romania\", \"Estonia\", \"Croatia\", \"Kosovo\", \"Azerbaijan\", \"Kyrgyzstan\", \"Serbia\", \"Bosnia and Herzegovina\", \"Montenegro\", \"Hungary\", \"Macedonia\", \"Tajikistan\", \"Albania\", \"Armenia\", \"Ukraine\", \"Georgia\", \"Bulgaria\"], \"legendgroup\": \"Central and Eastern Europe\", \"marker\": {\"color\": \"#FF6692\", \"size\": [6.596, 6.077999999999999, 5.987, 5.919, 5.897, 5.856, 5.835, 5.813, 5.8020000000000005, 5.768, 5.6579999999999995, 5.56, 5.528, 5.517, 5.4879999999999995, 5.401, 5.291, 5.185, 5.1770000000000005, 5.162999999999999, 5.1610000000000005, 5.145, 5.121, 4.996, 4.655, 4.36, 4.324, 4.252, 4.217], \"sizemode\": \"area\", \"sizeref\": 0.0189675, \"symbol\": \"circle\"}, \"mode\": \"markers\", \"name\": \"Central and Eastern Europe\", \"orientation\": \"v\", \"showlegend\": true, \"x\": [1.30915, 1.27973, 0.7359100000000001, 1.22943, 0.69177, 1.2322799999999998, 1.24585, 1.2692, 1.1306200000000002, 1.2994700000000001, 1.08017, 1.2178799999999999, 1.1697, 1.2796399999999999, 1.18649, 0.90145, 1.12373, 0.5604399999999999, 1.03437, 0.9338299999999999, 1.07838, 1.24142, 1.0193, 0.48835, 0.9553, 0.8608600000000001, 0.87287, 0.8379200000000001, 1.11306], \"xaxis\": \"x\", \"y\": [0.76376, 0.70367, 0.50163, 0.57386, 0.5230899999999999, 0.58991, 0.69058, 0.64674, 0.6310399999999999, 0.79151, 0.44006000000000006, 0.63952, 0.67602, 0.68098, 0.70524, 0.54, 0.54504, 0.5544899999999999, 0.6458, 0.7076600000000001, 0.6353300000000001, 0.67608, 0.6473800000000001, 0.5311899999999999, 0.73007, 0.64083, 0.58628, 0.64035, 0.67806], \"yaxis\": \"y\", \"type\": \"scatter\"}, {\"hovertemplate\": \"<b>%{hovertext}</b><br><br>Region=Eastern Asia<br>Year=2016<br>GDP=%{x}<br>LifeExpect=%{y}<br>Score=%{marker.size}<extra></extra>\", \"hovertext\": [\"Taiwan\", \"Japan\", \"South Korea\", \"Hong Kong\", \"China\", \"Mongolia\"], \"ids\": [\"Taiwan\", \"Japan\", \"South Korea\", \"Hong Kong\", \"China\", \"Mongolia\"], \"legendgroup\": \"Eastern Asia\", \"marker\": {\"color\": \"#B6E880\", \"size\": [6.379, 5.921, 5.835, 5.457999999999999, 5.245, 4.907], \"sizemode\": \"area\", \"sizeref\": 0.0189675, \"symbol\": \"circle\"}, \"mode\": \"markers\", \"name\": \"Eastern Asia\", \"orientation\": \"v\", \"showlegend\": true, \"x\": [1.39729, 1.3800700000000001, 1.35948, 1.5107, 1.0278, 0.9885299999999999], \"xaxis\": \"x\", \"y\": [0.79565, 0.91491, 0.88645, 0.9527700000000001, 0.73561, 0.55469], \"yaxis\": \"y\", \"type\": \"scatter\"}, {\"hovertemplate\": \"<b>%{hovertext}</b><br><br>Region=Sub-Saharan Africa<br>Year=2016<br>GDP=%{x}<br>LifeExpect=%{y}<br>Score=%{marker.size}<extra></extra>\", \"hovertext\": [\"Mauritius\", \"Somalia\", \"Somaliland Region\", \"Nigeria\", \"Zambia\", \"Sierra Leone\", \"Namibia\", \"Cameroon\", \"Ethiopia\", \"South Africa\", \"Kenya\", \"Ghana\", \"Congo (Kinshasa)\", \"Congo (Brazzaville)\", \"Senegal\", \"Mauritania\", \"Zimbabwe\", \"Malawi\", \"Sudan\", \"Gabon\", \"Mali\", \"Botswana\", \"Comoros\", \"Ivory Coast\", \"Angola\", \"Niger\", \"South Sudan\", \"Chad\", \"Burkina Faso\", \"Uganda\", \"Madagascar\", \"Tanzania\", \"Liberia\", \"Guinea\", \"Rwanda\", \"Benin\", \"Togo\", \"Burundi\"], \"ids\": [\"Mauritius\", \"Somalia\", \"Somaliland Region\", \"Nigeria\", \"Zambia\", \"Sierra Leone\", \"Namibia\", \"Cameroon\", \"Ethiopia\", \"South Africa\", \"Kenya\", \"Ghana\", \"Congo (Kinshasa)\", \"Congo (Brazzaville)\", \"Senegal\", \"Mauritania\", \"Zimbabwe\", \"Malawi\", \"Sudan\", \"Gabon\", \"Mali\", \"Botswana\", \"Comoros\", \"Ivory Coast\", \"Angola\", \"Niger\", \"South Sudan\", \"Chad\", \"Burkina Faso\", \"Uganda\", \"Madagascar\", \"Tanzania\", \"Liberia\", \"Guinea\", \"Rwanda\", \"Benin\", \"Togo\", \"Burundi\"], \"legendgroup\": \"Sub-Saharan Africa\", \"marker\": {\"color\": \"#FF97FF\", \"size\": [5.648, 5.44, 5.0569999999999995, 4.875, 4.795, 4.635, 4.574, 4.513, 4.508, 4.459, 4.356, 4.276, 4.272, 4.236000000000001, 4.218999999999999, 4.2010000000000005, 4.1930000000000005, 4.156000000000001, 4.138999999999999, 4.121, 4.073, 3.9739999999999998, 3.9560000000000004, 3.9160000000000004, 3.866, 3.8560000000000003, 3.832, 3.763, 3.739, 3.739, 3.695, 3.6660000000000004, 3.622, 3.6069999999999998, 3.515, 3.484, 3.303, 2.905], \"sizemode\": \"area\", \"sizeref\": 0.0189675, \"symbol\": \"circle\"}, \"mode\": \"markers\", \"name\": \"Sub-Saharan Africa\", \"orientation\": \"v\", \"showlegend\": true, \"x\": [1.14372, 0.0, 0.25558000000000003, 0.75216, 0.61202, 0.36485, 0.9328700000000001, 0.5249699999999999, 0.29283000000000003, 1.02416, 0.52267, 0.63107, 0.05661, 0.7710899999999999, 0.44314, 0.6139100000000001, 0.35041, 0.08709, 0.63069, 1.15851, 0.31292, 1.09426, 0.27509, 0.55507, 0.84731, 0.1327, 0.39394, 0.42213999999999996, 0.31995, 0.34719, 0.27954, 0.47155, 0.10705999999999999, 0.22415, 0.32846, 0.39499, 0.28123000000000004, 0.06831], \"xaxis\": \"x\", \"y\": [0.66189, 0.11465999999999998, 0.33108000000000004, 0.05108, 0.23573000000000002, 0.0, 0.34745, 0.12697999999999998, 0.34578000000000003, 0.18611, 0.30146999999999996, 0.29681, 0.188, 0.28212, 0.40457, 0.28639000000000003, 0.1595, 0.29364, 0.29759, 0.3494, 0.16347, 0.34752, 0.29980999999999997, 0.04476, 0.04991, 0.26161999999999996, 0.15780999999999998, 0.038239999999999996, 0.21297, 0.19625, 0.37109000000000003, 0.35700000000000004, 0.23165, 0.18829, 0.31865, 0.21028000000000002, 0.24811, 0.15747], \"yaxis\": \"y\", \"type\": \"scatter\"}, {\"hovertemplate\": \"<b>%{hovertext}</b><br><br>Region=Southern Asia<br>Year=2016<br>GDP=%{x}<br>LifeExpect=%{y}<br>Score=%{marker.size}<extra></extra>\", \"hovertext\": [\"Bhutan\", \"Pakistan\", \"Nepal\", \"Bangladesh\", \"Sri Lanka\", \"India\", \"Afghanistan\"], \"ids\": [\"Bhutan\", \"Pakistan\", \"Nepal\", \"Bangladesh\", \"Sri Lanka\", \"India\", \"Afghanistan\"], \"legendgroup\": \"Southern Asia\", \"marker\": {\"color\": \"#FECB52\", \"size\": [5.196000000000001, 5.132000000000001, 4.793, 4.643, 4.415, 4.404, 3.36], \"sizemode\": \"area\", \"sizeref\": 0.0189675, \"symbol\": \"circle\"}, \"mode\": \"markers\", \"name\": \"Southern Asia\", \"orientation\": \"v\", \"showlegend\": true, \"x\": [0.8527, 0.68816, 0.44626000000000005, 0.54177, 0.9731799999999999, 0.74036, 0.38227], \"xaxis\": \"x\", \"y\": [0.49759, 0.40306, 0.50073, 0.52989, 0.62007, 0.45091000000000003, 0.17344], \"yaxis\": \"y\", \"type\": \"scatter\"}], \"name\": \"2016\"}]);\n",
              "                        }).then(function(){\n",
              "                            \n",
              "var gd = document.getElementById('e3ac8b6f-ff45-4630-bbd5-5bf2459ebf18');\n",
              "var x = new MutationObserver(function (mutations, observer) {{\n",
              "        var display = window.getComputedStyle(gd).display;\n",
              "        if (!display || display === 'none') {{\n",
              "            console.log([gd, 'removed!']);\n",
              "            Plotly.purge(gd);\n",
              "            observer.disconnect();\n",
              "        }}\n",
              "}});\n",
              "\n",
              "// Listen for the removal of the full notebook cells\n",
              "var notebookContainer = gd.closest('#notebook-container');\n",
              "if (notebookContainer) {{\n",
              "    x.observe(notebookContainer, {childList: true});\n",
              "}}\n",
              "\n",
              "// Listen for the clearing of the current output cell\n",
              "var outputEl = gd.closest('.output');\n",
              "if (outputEl) {{\n",
              "    x.observe(outputEl, {childList: true});\n",
              "}}\n",
              "\n",
              "                        })                };                            </script>        </div>\n",
              "</body>\n",
              "</html>"
            ]
          },
          "metadata": {
            "tags": []
          }
        }
      ]
    },
    {
      "cell_type": "code",
      "metadata": {
        "id": "MyLfa6Z2Ay3c"
      },
      "source": [
        ""
      ],
      "execution_count": null,
      "outputs": []
    }
  ]
}